{
 "cells": [
  {
   "cell_type": "markdown",
   "metadata": {},
   "source": [
    "# Parsing EORA\n",
    "\n",
    "This tutorial shows how to parse the EORA database, showing an example for both EORA26 multi-regional table and  for a single-region table"
   ]
  },
  {
   "cell_type": "markdown",
   "metadata": {},
   "source": [
    "## Downloading the database\n",
    "\n",
    "The database is available at the following website: https://worldmrio.com/. An account is necessary to download the data.\n",
    "You can manually download the repository. In this example we are going to show how the EORA26 database (https://worldmrio.com/eora26/) and a single-region table (https://worldmrio.com/countrywise/). The example is based on tables for 2016 but it works the same for any other year.\n",
    "\n",
    "### EORA26\n",
    "Let's start with EORA26, which is a multi-regional database. \n",
    "The targeted table file for this example is the one named \"Eora26_2016_bp.zip\", in basic prices. It is necessary to download the file (but not to unzip it) and store it in any directory ('EORA_folder' in this example). \n",
    "For EORA26, an additional attribute ('indices') is necessary, through which the path to \"indices.zip\" file need to be passed. The indices can be downloaded from the same link as EORA26 (link to the file: https://worldmrio.com/ComputationsM/Phase199/Loop082/simplified/indices.zip)\n",
    "\n",
    "### Single-Region EORA\n",
    "As an example of single-region table, we downloaded the 2016 table for Italy in purchaser's prices (download link: https://worldmrio.com/ComputationsM/Phase199/Loop082/XLSResults/byCountry/ITA/byYear/2016/IO_ITA_2016_PurchasersPrice.txt). \n"
   ]
  },
  {
   "cell_type": "markdown",
   "metadata": {},
   "source": [
    "## Parsing the downloaded EORA26 database\n",
    "\n",
    "Once the EORA26 database files are stored in a given path, it is possible to parse it into a mario.Database object.\n",
    "The 'parse_eora' method is suitable to parse both EORA26 and single-region versions. For EORA26, the 'multi_region' attribute must be set to True, the 'year' attribute must refer to the reference year of the table, and the 'indeces' must be equal to the path where 'indices.zip' has been stored.\n",
    "\n",
    "Make sure the data is downloaded with corresponding names/path given to the function!"
   ]
  },
  {
   "cell_type": "code",
   "execution_count": 1,
   "metadata": {},
   "outputs": [
    {
     "ename": "KeyError",
     "evalue": "\"There is no item named 'labels_T.txt' in the archive\"",
     "output_type": "error",
     "traceback": [
      "\u001b[0;31m---------------------------------------------------------------------------\u001b[0m",
      "\u001b[0;31mKeyError\u001b[0m                                  Traceback (most recent call last)",
      "Cell \u001b[0;32mIn[1], line 6\u001b[0m\n\u001b[1;32m      3\u001b[0m table_path \u001b[38;5;241m=\u001b[39m \u001b[38;5;124m'\u001b[39m\u001b[38;5;124mEora26_2016_bp.zip\u001b[39m\u001b[38;5;124m'\u001b[39m  \u001b[38;5;66;03m# Define the desired path to the folder where Exiobase should be downloaded\u001b[39;00m\n\u001b[1;32m      4\u001b[0m indices_path \u001b[38;5;241m=\u001b[39m \u001b[38;5;124m'\u001b[39m\u001b[38;5;124mindices.zip\u001b[39m\u001b[38;5;124m'\u001b[39m\n\u001b[0;32m----> 6\u001b[0m eora26 \u001b[38;5;241m=\u001b[39m \u001b[43mmario\u001b[49m\u001b[38;5;241;43m.\u001b[39;49m\u001b[43mparse_eora\u001b[49m\u001b[43m(\u001b[49m\n\u001b[1;32m      7\u001b[0m \u001b[43m    \u001b[49m\u001b[43mpath\u001b[49m\u001b[43m \u001b[49m\u001b[38;5;241;43m=\u001b[39;49m\u001b[43m \u001b[49m\u001b[43mtable_path\u001b[49m\u001b[43m,\u001b[49m\n\u001b[1;32m      8\u001b[0m \u001b[43m    \u001b[49m\u001b[43mmulti_region\u001b[49m\u001b[43m \u001b[49m\u001b[38;5;241;43m=\u001b[39;49m\u001b[43m \u001b[49m\u001b[38;5;28;43;01mTrue\u001b[39;49;00m\u001b[43m,\u001b[49m\u001b[43m \u001b[49m\n\u001b[1;32m      9\u001b[0m \u001b[43m    \u001b[49m\u001b[43mtable\u001b[49m\u001b[43m \u001b[49m\u001b[38;5;241;43m=\u001b[39;49m\u001b[43m \u001b[49m\u001b[38;5;124;43m'\u001b[39;49m\u001b[38;5;124;43mIOT\u001b[39;49m\u001b[38;5;124;43m'\u001b[39;49m\u001b[43m,\u001b[49m\n\u001b[1;32m     10\u001b[0m \u001b[43m    \u001b[49m\u001b[43myear\u001b[49m\u001b[43m \u001b[49m\u001b[38;5;241;43m=\u001b[39;49m\u001b[43m \u001b[49m\u001b[38;5;241;43m2016\u001b[39;49m\u001b[43m,\u001b[49m\n\u001b[1;32m     11\u001b[0m \u001b[43m    \u001b[49m\u001b[43mindeces\u001b[49m\u001b[43m \u001b[49m\u001b[38;5;241;43m=\u001b[39;49m\u001b[43m \u001b[49m\u001b[43mindices_path\u001b[49m\n\u001b[1;32m     12\u001b[0m \u001b[43m)\u001b[49m\n",
      "File \u001b[0;32m~/Documents/GitHub/MARIO/mario/tools/parsersclass.py:341\u001b[0m, in \u001b[0;36mparse_eora\u001b[0;34m(path, multi_region, table, indeces, name_convention, aggregate_trade, year, name, calc_all, model, **kwargs)\u001b[0m\n\u001b[1;32m    336\u001b[0m     \u001b[38;5;28;01mif\u001b[39;00m table \u001b[38;5;241m==\u001b[39m \u001b[38;5;124m\"\u001b[39m\u001b[38;5;124mSUT\u001b[39m\u001b[38;5;124m\"\u001b[39m:\n\u001b[1;32m    337\u001b[0m         \u001b[38;5;28;01mraise\u001b[39;00m \u001b[38;5;28mNotImplemented\u001b[39m(\n\u001b[1;32m    338\u001b[0m             \u001b[38;5;124m\"\u001b[39m\u001b[38;5;124mNo handling of multiregional SUT from EORA is implemented yet\u001b[39m\u001b[38;5;124m\"\u001b[39m\n\u001b[1;32m    339\u001b[0m         )\n\u001b[0;32m--> 341\u001b[0m     matrices, indeces, units \u001b[38;5;241m=\u001b[39m \u001b[43meora_multi_region\u001b[49m\u001b[43m(\u001b[49m\n\u001b[1;32m    342\u001b[0m \u001b[43m        \u001b[49m\u001b[43mdata_path\u001b[49m\u001b[38;5;241;43m=\u001b[39;49m\u001b[43mpath\u001b[49m\u001b[43m,\u001b[49m\u001b[43m \u001b[49m\u001b[43mindex_path\u001b[49m\u001b[38;5;241;43m=\u001b[39;49m\u001b[43mindeces\u001b[49m\u001b[43m,\u001b[49m\u001b[43m \u001b[49m\u001b[43myear\u001b[49m\u001b[38;5;241;43m=\u001b[39;49m\u001b[43myear\u001b[49m\u001b[43m,\u001b[49m\u001b[43m \u001b[49m\u001b[43mprice\u001b[49m\u001b[38;5;241;43m=\u001b[39;49m\u001b[38;5;124;43m\"\u001b[39;49m\u001b[38;5;124;43mbp\u001b[39;49m\u001b[38;5;124;43m\"\u001b[39;49m\n\u001b[1;32m    343\u001b[0m \u001b[43m    \u001b[49m\u001b[43m)\u001b[49m\n\u001b[1;32m    345\u001b[0m     kwargs[\u001b[38;5;124m\"\u001b[39m\u001b[38;5;124mnotes\u001b[39m\u001b[38;5;124m\"\u001b[39m] \u001b[38;5;241m=\u001b[39m [\n\u001b[1;32m    346\u001b[0m         \u001b[38;5;124m\"\u001b[39m\u001b[38;5;124mROW deleted from database due to inconsistency.\u001b[39m\u001b[38;5;124m\"\u001b[39m,\n\u001b[1;32m    347\u001b[0m         \u001b[38;5;124m\"\u001b[39m\u001b[38;5;124mIntermediate imports from ROW added to VA matrix\u001b[39m\u001b[38;5;124m\"\u001b[39m,\n\u001b[1;32m    348\u001b[0m         \u001b[38;5;124m\"\u001b[39m\u001b[38;5;124mIntermediate exports to ROW added to Y matrix\u001b[39m\u001b[38;5;124m\"\u001b[39m,\n\u001b[1;32m    349\u001b[0m     ]\n\u001b[1;32m    351\u001b[0m \u001b[38;5;28;01melse\u001b[39;00m:\n",
      "File \u001b[0;32m~/Documents/GitHub/MARIO/mario/tools/tableparser.py:838\u001b[0m, in \u001b[0;36meora_multi_region\u001b[0;34m(data_path, index_path, year, price)\u001b[0m\n\u001b[1;32m    835\u001b[0m     \u001b[38;5;28;01mfor\u001b[39;00m values \u001b[38;5;129;01min\u001b[39;00m parser_ids[main_key]\u001b[38;5;241m.\u001b[39mvalues():\n\u001b[1;32m    836\u001b[0m         values[\u001b[38;5;124m\"\u001b[39m\u001b[38;5;124mfile_name\u001b[39m\u001b[38;5;124m\"\u001b[39m] \u001b[38;5;241m=\u001b[39m values[\u001b[38;5;124m\"\u001b[39m\u001b[38;5;124mfile_name\u001b[39m\u001b[38;5;124m\"\u001b[39m]\u001b[38;5;241m.\u001b[39mformat(year\u001b[38;5;241m=\u001b[39myear, price\u001b[38;5;241m=\u001b[39mprice)\n\u001b[0;32m--> 838\u001b[0m labels \u001b[38;5;241m=\u001b[39m \u001b[43mall_file_reader\u001b[49m\u001b[43m(\u001b[49m\n\u001b[1;32m    839\u001b[0m \u001b[43m    \u001b[49m\u001b[43mindex_path\u001b[49m\u001b[43m,\u001b[49m\u001b[43m \u001b[49m\u001b[38;5;28;43mdict\u001b[39;49m\u001b[43m(\u001b[49m\u001b[43mlabels\u001b[49m\u001b[38;5;241;43m=\u001b[39;49m\u001b[43mparser_ids\u001b[49m\u001b[43m[\u001b[49m\u001b[38;5;124;43m\"\u001b[39;49m\u001b[38;5;124;43mlabels\u001b[39;49m\u001b[38;5;124;43m\"\u001b[39;49m\u001b[43m]\u001b[49m\u001b[43m)\u001b[49m\u001b[43m,\u001b[49m\u001b[43m \u001b[49m\u001b[43msub_folder\u001b[49m\u001b[38;5;241;43m=\u001b[39;49m\u001b[38;5;28;43;01mFalse\u001b[39;49;00m\n\u001b[1;32m    840\u001b[0m \u001b[43m\u001b[49m\u001b[43m)\u001b[49m\n\u001b[1;32m    842\u001b[0m \u001b[38;5;66;03m# reading the files\u001b[39;00m\n\u001b[1;32m    843\u001b[0m read \u001b[38;5;241m=\u001b[39m all_file_reader(\n\u001b[1;32m    844\u001b[0m     data_path, \u001b[38;5;28mdict\u001b[39m(matrices\u001b[38;5;241m=\u001b[39mparser_ids[\u001b[38;5;124m\"\u001b[39m\u001b[38;5;124mmatrices\u001b[39m\u001b[38;5;124m\"\u001b[39m]), sub_folder\u001b[38;5;241m=\u001b[39m\u001b[38;5;28;01mFalse\u001b[39;00m\n\u001b[1;32m    845\u001b[0m )\n",
      "File \u001b[0;32m~/Documents/GitHub/MARIO/mario/tools/utilities.py:196\u001b[0m, in \u001b[0;36mall_file_reader\u001b[0;34m(path, guide, sub_folder, sep, exceptions, engine)\u001b[0m\n\u001b[1;32m    190\u001b[0m             \u001b[38;5;28;01mfor\u001b[39;00m inner_key, inner_value \u001b[38;5;129;01min\u001b[39;00m value\u001b[38;5;241m.\u001b[39mitems():\n\u001b[1;32m    191\u001b[0m                 path \u001b[38;5;241m=\u001b[39m (\n\u001b[1;32m    192\u001b[0m                     \u001b[38;5;124mr\u001b[39m\u001b[38;5;124m\"\u001b[39m\u001b[38;5;132;01m{}\u001b[39;00m\u001b[38;5;124m/\u001b[39m\u001b[38;5;132;01m{}\u001b[39;00m\u001b[38;5;124m\"\u001b[39m\u001b[38;5;241m.\u001b[39mformat(new_path, inner_value[\u001b[38;5;124m\"\u001b[39m\u001b[38;5;124mfile_name\u001b[39m\u001b[38;5;124m\"\u001b[39m])\n\u001b[1;32m    193\u001b[0m                     \u001b[38;5;28;01mif\u001b[39;00m new_path\n\u001b[1;32m    194\u001b[0m                     \u001b[38;5;28;01melse\u001b[39;00m \u001b[38;5;124mr\u001b[39m\u001b[38;5;124m\"\u001b[39m\u001b[38;5;132;01m{}\u001b[39;00m\u001b[38;5;124m\"\u001b[39m\u001b[38;5;241m.\u001b[39mformat(inner_value[\u001b[38;5;124m\"\u001b[39m\u001b[38;5;124mfile_name\u001b[39m\u001b[38;5;124m\"\u001b[39m])\n\u001b[1;32m    195\u001b[0m                 )\n\u001b[0;32m--> 196\u001b[0m                 \u001b[38;5;28;01mwith\u001b[39;00m \u001b[43mfolder\u001b[49m\u001b[38;5;241;43m.\u001b[39;49m\u001b[43mopen\u001b[49m\u001b[43m(\u001b[49m\u001b[43mpath\u001b[49m\u001b[43m)\u001b[49m \u001b[38;5;28;01mas\u001b[39;00m file:\n\u001b[1;32m    197\u001b[0m                     readers(inner_value[\u001b[38;5;124m\"\u001b[39m\u001b[38;5;124mfile_name\u001b[39m\u001b[38;5;124m\"\u001b[39m], file)\n\u001b[1;32m    199\u001b[0m \u001b[38;5;28;01melse\u001b[39;00m:\n",
      "File \u001b[0;32m/opt/anaconda3/envs/mario_dev/lib/python3.11/zipfile.py:1563\u001b[0m, in \u001b[0;36mZipFile.open\u001b[0;34m(self, name, mode, pwd, force_zip64)\u001b[0m\n\u001b[1;32m   1560\u001b[0m     zinfo\u001b[38;5;241m.\u001b[39m_compresslevel \u001b[38;5;241m=\u001b[39m \u001b[38;5;28mself\u001b[39m\u001b[38;5;241m.\u001b[39mcompresslevel\n\u001b[1;32m   1561\u001b[0m \u001b[38;5;28;01melse\u001b[39;00m:\n\u001b[1;32m   1562\u001b[0m     \u001b[38;5;66;03m# Get info object for name\u001b[39;00m\n\u001b[0;32m-> 1563\u001b[0m     zinfo \u001b[38;5;241m=\u001b[39m \u001b[38;5;28;43mself\u001b[39;49m\u001b[38;5;241;43m.\u001b[39;49m\u001b[43mgetinfo\u001b[49m\u001b[43m(\u001b[49m\u001b[43mname\u001b[49m\u001b[43m)\u001b[49m\n\u001b[1;32m   1565\u001b[0m \u001b[38;5;28;01mif\u001b[39;00m mode \u001b[38;5;241m==\u001b[39m \u001b[38;5;124m'\u001b[39m\u001b[38;5;124mw\u001b[39m\u001b[38;5;124m'\u001b[39m:\n\u001b[1;32m   1566\u001b[0m     \u001b[38;5;28;01mreturn\u001b[39;00m \u001b[38;5;28mself\u001b[39m\u001b[38;5;241m.\u001b[39m_open_to_write(zinfo, force_zip64\u001b[38;5;241m=\u001b[39mforce_zip64)\n",
      "File \u001b[0;32m/opt/anaconda3/envs/mario_dev/lib/python3.11/zipfile.py:1492\u001b[0m, in \u001b[0;36mZipFile.getinfo\u001b[0;34m(self, name)\u001b[0m\n\u001b[1;32m   1490\u001b[0m info \u001b[38;5;241m=\u001b[39m \u001b[38;5;28mself\u001b[39m\u001b[38;5;241m.\u001b[39mNameToInfo\u001b[38;5;241m.\u001b[39mget(name)\n\u001b[1;32m   1491\u001b[0m \u001b[38;5;28;01mif\u001b[39;00m info \u001b[38;5;129;01mis\u001b[39;00m \u001b[38;5;28;01mNone\u001b[39;00m:\n\u001b[0;32m-> 1492\u001b[0m     \u001b[38;5;28;01mraise\u001b[39;00m \u001b[38;5;167;01mKeyError\u001b[39;00m(\n\u001b[1;32m   1493\u001b[0m         \u001b[38;5;124m'\u001b[39m\u001b[38;5;124mThere is no item named \u001b[39m\u001b[38;5;132;01m%r\u001b[39;00m\u001b[38;5;124m in the archive\u001b[39m\u001b[38;5;124m'\u001b[39m \u001b[38;5;241m%\u001b[39m name)\n\u001b[1;32m   1495\u001b[0m \u001b[38;5;28;01mreturn\u001b[39;00m info\n",
      "\u001b[0;31mKeyError\u001b[0m: \"There is no item named 'labels_T.txt' in the archive\""
     ]
    }
   ],
   "source": [
    "import mario  # Import MARIO\n",
    "\n",
    "table_path = 'Eora26_2016_bp.zip'  # Define the desired path to the folder where Exiobase should be downloaded\n",
    "indices_path = 'indices.zip'\n",
    "\n",
    "eora26 = mario.parse_eora(\n",
    "    path = table_path,\n",
    "    multi_region = True, \n",
    "    table = 'IOT',\n",
    "    year = 2016,\n",
    "    indeces = indices_path\n",
    ")"
   ]
  },
  {
   "cell_type": "markdown",
   "metadata": {},
   "source": [
    "## Parsing the downloaded single-region EORA database\n",
    "As for EORA26, the 'parse_eora' method can be adopted also for single region tables, setting 'multi_region' as False. In this case, 'indeces' should not be defined."
   ]
  },
  {
   "cell_type": "code",
   "execution_count": 3,
   "metadata": {},
   "outputs": [
    {
     "name": "stderr",
     "output_type": "stream",
     "text": [
      "/Users/mohammadamintahavori/Documents/GitHub/MARIO/mario/tools/tableparser.py:688: DtypeWarning:\n",
      "\n",
      "Columns (0) have mixed types. Specify dtype option on import or set low_memory=False.\n",
      "\n",
      "/Users/mohammadamintahavori/Documents/GitHub/MARIO/mario/tools/tableparser.py:700: PerformanceWarning:\n",
      "\n",
      "dropping on a non-lexsorted multi-index without a level parameter may impact performance.\n",
      "\n"
     ]
    }
   ],
   "source": [
    "table_path = 'IO_ITA_2016_PurchasersPrice.txt'  # Define the desired path to the folder where Exiobase should be downloaded\n",
    "\n",
    "eora_IT = mario.parse_eora(\n",
    "    path = table_path,\n",
    "    multi_region = False, \n",
    "    table = 'IOT',\n",
    "    year = 2016,\n",
    ")"
   ]
  },
  {
   "cell_type": "code",
   "execution_count": 4,
   "metadata": {},
   "outputs": [
    {
     "data": {
      "text/plain": [
       "name = None\n",
       "table = IOT\n",
       "scenarios = ['baseline']\n",
       "Factor of production = 7\n",
       "Satellite account = 2692\n",
       "Consumption category = 7\n",
       "Region = 1\n",
       "Sector = 61"
      ]
     },
     "execution_count": 4,
     "metadata": {},
     "output_type": "execute_result"
    }
   ],
   "source": [
    "eora_IT"
   ]
  }
 ],
 "metadata": {
  "kernelspec": {
   "display_name": "mario_test",
   "language": "python",
   "name": "python3"
  },
  "language_info": {
   "codemirror_mode": {
    "name": "ipython",
    "version": 3
   },
   "file_extension": ".py",
   "mimetype": "text/x-python",
   "name": "python",
   "nbconvert_exporter": "python",
   "pygments_lexer": "ipython3",
   "version": "3.11.9"
  }
 },
 "nbformat": 4,
 "nbformat_minor": 2
}
