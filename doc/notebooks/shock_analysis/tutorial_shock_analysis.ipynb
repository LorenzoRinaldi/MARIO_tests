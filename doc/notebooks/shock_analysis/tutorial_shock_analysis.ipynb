{
 "cells": [
  {
   "cell_type": "markdown",
   "metadata": {},
   "source": [
    "# Shcok Analysis\n",
    "\n",
    "A scenario can be implemented in multiple ways within mario. "
   ]
  },
  {
   "cell_type": "markdown",
   "metadata": {},
   "source": [
    "## Shock implementation using python script\n"
   ]
  },
  {
   "cell_type": "markdown",
   "metadata": {},
   "source": [
    "In this approach, you need to use the pandas functions properly to implement changes in your database, and update the matrices in mario scenario accordingly. Lets load the test example to see how it works."
   ]
  },
  {
   "cell_type": "code",
   "execution_count": 1,
   "metadata": {},
   "outputs": [],
   "source": [
    "from mario import load_test,slicer"
   ]
  },
  {
   "cell_type": "code",
   "execution_count": 2,
   "metadata": {},
   "outputs": [],
   "source": [
    "test = load_test(\"IOT\")"
   ]
  },
  {
   "cell_type": "markdown",
   "metadata": {},
   "source": [
    "Let's assume you want to model a final demand increase scenario in your database. The first step would be to clone a new scneario from baseline data:"
   ]
  },
  {
   "cell_type": "code",
   "execution_count": 3,
   "metadata": {},
   "outputs": [
    {
     "name": "stdout",
     "output_type": "stream",
     "text": [
      "['baseline', 'Final demand increase']\n"
     ]
    }
   ],
   "source": [
    "test.clone_scenario(\n",
    "    scenario='baseline', # from which scenario clone  \n",
    "    name='Final demand increase',# what will be the name of the new scenario\n",
    ")\n",
    "\n",
    "print(test.scenarios)"
   ]
  },
  {
   "cell_type": "markdown",
   "metadata": {},
   "source": [
    "Now lets assume you want to increase the local final demand of agriculture sectors in Italy by 10%. This is how the matrix of final demand (Y) looks like:"
   ]
  },
  {
   "cell_type": "code",
   "execution_count": 4,
   "metadata": {},
   "outputs": [
    {
     "data": {
      "text/html": [
       "<div>\n",
       "<style scoped>\n",
       "    .dataframe tbody tr th:only-of-type {\n",
       "        vertical-align: middle;\n",
       "    }\n",
       "\n",
       "    .dataframe tbody tr th {\n",
       "        vertical-align: top;\n",
       "    }\n",
       "\n",
       "    .dataframe thead tr th {\n",
       "        text-align: left;\n",
       "    }\n",
       "\n",
       "    .dataframe thead tr:last-of-type th {\n",
       "        text-align: right;\n",
       "    }\n",
       "</style>\n",
       "<table border=\"1\" class=\"dataframe\">\n",
       "  <thead>\n",
       "    <tr>\n",
       "      <th></th>\n",
       "      <th></th>\n",
       "      <th>Region</th>\n",
       "      <th>Italy</th>\n",
       "      <th>RoW</th>\n",
       "    </tr>\n",
       "    <tr>\n",
       "      <th></th>\n",
       "      <th></th>\n",
       "      <th>Level</th>\n",
       "      <th>Consumption category</th>\n",
       "      <th>Consumption category</th>\n",
       "    </tr>\n",
       "    <tr>\n",
       "      <th></th>\n",
       "      <th></th>\n",
       "      <th>Item</th>\n",
       "      <th>Final Demand</th>\n",
       "      <th>Final Demand</th>\n",
       "    </tr>\n",
       "    <tr>\n",
       "      <th>Region</th>\n",
       "      <th>Level</th>\n",
       "      <th>Item</th>\n",
       "      <th></th>\n",
       "      <th></th>\n",
       "    </tr>\n",
       "  </thead>\n",
       "  <tbody>\n",
       "    <tr>\n",
       "      <th rowspan=\"6\" valign=\"top\">Italy</th>\n",
       "      <th rowspan=\"6\" valign=\"top\">Sector</th>\n",
       "      <th>Agriculture</th>\n",
       "      <td>2.843471e+04</td>\n",
       "      <td>4.875449e+03</td>\n",
       "    </tr>\n",
       "    <tr>\n",
       "      <th>Construction</th>\n",
       "      <td>1.447732e+05</td>\n",
       "      <td>4.655076e+02</td>\n",
       "    </tr>\n",
       "    <tr>\n",
       "      <th>Manufacturing</th>\n",
       "      <td>2.998989e+05</td>\n",
       "      <td>2.316510e+05</td>\n",
       "    </tr>\n",
       "    <tr>\n",
       "      <th>Mining</th>\n",
       "      <td>9.219922e+02</td>\n",
       "      <td>2.023559e+02</td>\n",
       "    </tr>\n",
       "    <tr>\n",
       "      <th>Services</th>\n",
       "      <td>1.052847e+06</td>\n",
       "      <td>5.080214e+04</td>\n",
       "    </tr>\n",
       "    <tr>\n",
       "      <th>Transport</th>\n",
       "      <td>5.738525e+04</td>\n",
       "      <td>5.686902e+03</td>\n",
       "    </tr>\n",
       "    <tr>\n",
       "      <th rowspan=\"6\" valign=\"top\">RoW</th>\n",
       "      <th rowspan=\"6\" valign=\"top\">Sector</th>\n",
       "      <th>Agriculture</th>\n",
       "      <td>1.099317e+04</td>\n",
       "      <td>2.073065e+06</td>\n",
       "    </tr>\n",
       "    <tr>\n",
       "      <th>Construction</th>\n",
       "      <td>1.072044e+03</td>\n",
       "      <td>1.059925e+07</td>\n",
       "    </tr>\n",
       "    <tr>\n",
       "      <th>Manufacturing</th>\n",
       "      <td>1.217507e+05</td>\n",
       "      <td>1.816087e+07</td>\n",
       "    </tr>\n",
       "    <tr>\n",
       "      <th>Mining</th>\n",
       "      <td>4.621724e+02</td>\n",
       "      <td>4.603934e+05</td>\n",
       "    </tr>\n",
       "    <tr>\n",
       "      <th>Services</th>\n",
       "      <td>4.307168e+04</td>\n",
       "      <td>4.842609e+07</td>\n",
       "    </tr>\n",
       "    <tr>\n",
       "      <th>Transport</th>\n",
       "      <td>8.726021e+03</td>\n",
       "      <td>3.100367e+06</td>\n",
       "    </tr>\n",
       "  </tbody>\n",
       "</table>\n",
       "</div>"
      ],
      "text/plain": [
       "Region                                     Italy                  RoW\n",
       "Level                       Consumption category Consumption category\n",
       "Item                                Final Demand         Final Demand\n",
       "Region Level  Item                                                   \n",
       "Italy  Sector Agriculture           2.843471e+04         4.875449e+03\n",
       "              Construction          1.447732e+05         4.655076e+02\n",
       "              Manufacturing         2.998989e+05         2.316510e+05\n",
       "              Mining                9.219922e+02         2.023559e+02\n",
       "              Services              1.052847e+06         5.080214e+04\n",
       "              Transport             5.738525e+04         5.686902e+03\n",
       "RoW    Sector Agriculture           1.099317e+04         2.073065e+06\n",
       "              Construction          1.072044e+03         1.059925e+07\n",
       "              Manufacturing         1.217507e+05         1.816087e+07\n",
       "              Mining                4.621724e+02         4.603934e+05\n",
       "              Services              4.307168e+04         4.842609e+07\n",
       "              Transport             8.726021e+03         3.100367e+06"
      ]
     },
     "execution_count": 4,
     "metadata": {},
     "output_type": "execute_result"
    }
   ],
   "source": [
    "test.Y"
   ]
  },
  {
   "cell_type": "markdown",
   "metadata": {},
   "source": [
    "So you need to slice the database properly to increase the total final demand of agriculture sector in Italy. For easier use, you can use mario slicer function in case you dont want to deal with slicing of pandas through loc function:"
   ]
  },
  {
   "cell_type": "code",
   "execution_count": 5,
   "metadata": {},
   "outputs": [],
   "source": [
    "Y_rows = slicer(matrix='Y',axis= 0,Region=['Italy'],Item=['Agriculture'])\n",
    "Y_cols = slicer(matrix='Y',axis= 1,Region=['Italy'],Item=['Final Demand'])"
   ]
  },
  {
   "cell_type": "markdown",
   "metadata": {},
   "source": [
    "Now you can increase the specific value by 10% as:"
   ]
  },
  {
   "cell_type": "code",
   "execution_count": 6,
   "metadata": {},
   "outputs": [],
   "source": [
    "Y_new = test.query(\n",
    "    matrices = \"Y\",\n",
    "    scenarios=\"Final demand increase\"\n",
    "    )"
   ]
  },
  {
   "cell_type": "code",
   "execution_count": 7,
   "metadata": {},
   "outputs": [],
   "source": [
    "Y_new.loc[Y_rows,Y_cols] *= 1.1"
   ]
  },
  {
   "cell_type": "code",
   "execution_count": 8,
   "metadata": {},
   "outputs": [
    {
     "name": "stdout",
     "output_type": "stream",
     "text": [
      "Baseline Y Region                                   Italy\n",
      "Level                     Consumption category\n",
      "Item                              Final Demand\n",
      "Region Level  Item                            \n",
      "Italy  Sector Agriculture         28434.707841\n",
      "Scenario Y Region                                   Italy\n",
      "Level                     Consumption category\n",
      "Item                              Final Demand\n",
      "Region Level  Item                            \n",
      "Italy  Sector Agriculture         31278.178625\n"
     ]
    }
   ],
   "source": [
    "print(\"Baseline Y\",test.Y.loc[Y_rows,Y_cols])\n",
    "print(\"Scenario Y\",Y_new.loc[Y_rows,Y_cols])"
   ]
  },
  {
   "cell_type": "markdown",
   "metadata": {},
   "source": [
    "Now you need to update the scenario data then reset all the matrices of scenario to coefficients only (as they are not changed!), to recaulcuate the matrices again."
   ]
  },
  {
   "cell_type": "code",
   "execution_count": 9,
   "metadata": {},
   "outputs": [],
   "source": [
    "test.update_scenarios(scenario='Final demand increase',Y=Y_new)\n",
    "test.reset_to_coefficients(scenario='Final demand increase')\n"
   ]
  },
  {
   "cell_type": "markdown",
   "metadata": {},
   "source": [
    "Lets take a look to a graph to see how things look like:"
   ]
  },
  {
   "cell_type": "code",
   "execution_count": 10,
   "metadata": {},
   "outputs": [],
   "source": [
    "# Change in total production\n",
    "delta_X = test.query(\n",
    "    matrices = \"X\", # which matrix\n",
    "    scenarios = \"Final demand increase\", # take the new scenario\n",
    "    base_scenario=\"baseline\", # take the base scenario\n",
    "    type = \"absolute\" # calcualte the absolute changes\n",
    ")"
   ]
  },
  {
   "cell_type": "code",
   "execution_count": 11,
   "metadata": {},
   "outputs": [
    {
     "data": {
      "text/html": [
       "<div>\n",
       "<style scoped>\n",
       "    .dataframe tbody tr th:only-of-type {\n",
       "        vertical-align: middle;\n",
       "    }\n",
       "\n",
       "    .dataframe tbody tr th {\n",
       "        vertical-align: top;\n",
       "    }\n",
       "\n",
       "    .dataframe thead th {\n",
       "        text-align: right;\n",
       "    }\n",
       "</style>\n",
       "<table border=\"1\" class=\"dataframe\">\n",
       "  <thead>\n",
       "    <tr style=\"text-align: right;\">\n",
       "      <th></th>\n",
       "      <th></th>\n",
       "      <th></th>\n",
       "      <th>production</th>\n",
       "    </tr>\n",
       "    <tr>\n",
       "      <th>Region</th>\n",
       "      <th>Level</th>\n",
       "      <th>Item</th>\n",
       "      <th></th>\n",
       "    </tr>\n",
       "  </thead>\n",
       "  <tbody>\n",
       "    <tr>\n",
       "      <th rowspan=\"6\" valign=\"top\">Italy</th>\n",
       "      <th rowspan=\"6\" valign=\"top\">Sector</th>\n",
       "      <th>Agriculture</th>\n",
       "      <td>2961.338965</td>\n",
       "    </tr>\n",
       "    <tr>\n",
       "      <th>Construction</th>\n",
       "      <td>57.329630</td>\n",
       "    </tr>\n",
       "    <tr>\n",
       "      <th>Manufacturing</th>\n",
       "      <td>597.267115</td>\n",
       "    </tr>\n",
       "    <tr>\n",
       "      <th>Mining</th>\n",
       "      <td>6.332699</td>\n",
       "    </tr>\n",
       "    <tr>\n",
       "      <th>Services</th>\n",
       "      <td>745.379267</td>\n",
       "    </tr>\n",
       "    <tr>\n",
       "      <th>Transport</th>\n",
       "      <td>185.686254</td>\n",
       "    </tr>\n",
       "    <tr>\n",
       "      <th rowspan=\"6\" valign=\"top\">RoW</th>\n",
       "      <th rowspan=\"6\" valign=\"top\">Sector</th>\n",
       "      <th>Agriculture</th>\n",
       "      <td>121.156060</td>\n",
       "    </tr>\n",
       "    <tr>\n",
       "      <th>Construction</th>\n",
       "      <td>5.421589</td>\n",
       "    </tr>\n",
       "    <tr>\n",
       "      <th>Manufacturing</th>\n",
       "      <td>302.857308</td>\n",
       "    </tr>\n",
       "    <tr>\n",
       "      <th>Mining</th>\n",
       "      <td>45.949173</td>\n",
       "    </tr>\n",
       "    <tr>\n",
       "      <th>Services</th>\n",
       "      <td>193.241123</td>\n",
       "    </tr>\n",
       "    <tr>\n",
       "      <th>Transport</th>\n",
       "      <td>36.432992</td>\n",
       "    </tr>\n",
       "  </tbody>\n",
       "</table>\n",
       "</div>"
      ],
      "text/plain": [
       "                              production\n",
       "Region Level  Item                      \n",
       "Italy  Sector Agriculture    2961.338965\n",
       "              Construction     57.329630\n",
       "              Manufacturing   597.267115\n",
       "              Mining            6.332699\n",
       "              Services        745.379267\n",
       "              Transport       185.686254\n",
       "RoW    Sector Agriculture     121.156060\n",
       "              Construction      5.421589\n",
       "              Manufacturing   302.857308\n",
       "              Mining           45.949173\n",
       "              Services        193.241123\n",
       "              Transport        36.432992"
      ]
     },
     "execution_count": 11,
     "metadata": {},
     "output_type": "execute_result"
    }
   ],
   "source": [
    "delta_X"
   ]
  },
  {
   "cell_type": "code",
   "execution_count": 12,
   "metadata": {},
   "outputs": [
    {
     "data": {
      "text/plain": [
       "<Axes: xlabel='Region,Level,Item'>"
      ]
     },
     "execution_count": 12,
     "metadata": {},
     "output_type": "execute_result"
    },
    {
     "data": {
      "image/png": "[encoded data removed]",
      "text/plain": [
       "<Figure size 640x480 with 1 Axes>"
      ]
     },
     "metadata": {},
     "output_type": "display_data"
    }
   ],
   "source": [
    "delta_X.plot(kind=\"bar\")"
   ]
  },
  {
   "cell_type": "markdown",
   "metadata": {},
   "source": [
    "## Implementing a shock using mario excel platform\n",
    "\n",
    "mario also supports introduction of very complex shocks through an excel platform, which can be generated with mario automatically based on the shape of the database. Then scenarios can be translated with the options of the excel files.\n",
    "\n",
    "The excel platform alos gives the opprotunity to define cluseters of sets like Region, Secotr,.... to implement more complex shocks.\n",
    "\n",
    "Lets implement a different shock, by first loading a fresh test example."
   ]
  },
  {
   "cell_type": "code",
   "execution_count": 13,
   "metadata": {},
   "outputs": [],
   "source": [
    "test = load_test(\"IOT\")"
   ]
  },
  {
   "cell_type": "markdown",
   "metadata": {},
   "source": [
    "You can ask mario to generate an excel file where you can fill your shocks!"
   ]
  },
  {
   "cell_type": "code",
   "execution_count": 14,
   "metadata": {},
   "outputs": [],
   "source": [
    "save_path = \"shock_iot.xlsx\"\n",
    "test.get_shock_excel(path=save_path)"
   ]
  },
  {
   "cell_type": "markdown",
   "metadata": {},
   "source": [
    "An excel file will be created in the given path. The excel file has 6 different pages as follow:\n",
    "\n",
    "1. indeces: this page contains all the valid data that can be used for the definition of the shocks. These values are used to validate the data on other sheets\n",
    "2. main: This sheet is an optional sheet that user may use for the intermediate calculations and defining the assumptions of the problem\n",
    "3. Y: This sheet is specified for implementing a shock on the Final demand\n",
    "4. v: This sheet is specified for implementing a shock on tha value added\n",
    "5. e: This sheet is specified for implementing a shock on the satellite account\n",
    "6. z: This sheet is specified for implementing a shock on the intersectoral transaction matrix\n",
    "\n",
    "In this version of mario, there are different ways to implement a shock (more options will be added to the next versions):\n",
    "\n",
    "1. update: this method updates a value on the coefficient matrix\n",
    "2. Absolute: this method implements the change in terms of absolute values (flows) and implement the change on coefficient matrix\n",
    "3. Percentage: this method implements a percentage change directly on coefficient matrix (the values should be between 0 to 1 meaning that 10% increase is 0.1 and 10% decrease is -0.1)"
   ]
  },
  {
   "cell_type": "markdown",
   "metadata": {},
   "source": [
    "For example, a scenario with 10% increase in the self consumption of services sector in Italy can be modeled in the excel file as follow:\n",
    "\n",
    "![Alt text](shock_z.png)\n"
   ]
  },
  {
   "cell_type": "markdown",
   "metadata": {},
   "source": [
    "Let's assume that we fill the excel file, and call it shock_iot_filled.xlsx. To implement the shock, you can:"
   ]
  },
  {
   "cell_type": "code",
   "execution_count": 15,
   "metadata": {},
   "outputs": [],
   "source": [
    "test.shock_calc(\n",
    "    io=r'shock_iot_filled.xlsx', # Path to the excel file\n",
    "    z= True, # the shock will be implemented on z\n",
    "    notes=['you may add some notes for metadata']\n",
    ")"
   ]
  },
  {
   "cell_type": "code",
   "execution_count": 16,
   "metadata": {},
   "outputs": [
    {
     "data": {
      "text/plain": [
       "['baseline', 'shock 1']"
      ]
     },
     "execution_count": 16,
     "metadata": {},
     "output_type": "execute_result"
    }
   ],
   "source": [
    "test.scenarios"
   ]
  },
  {
   "cell_type": "markdown",
   "metadata": {},
   "source": [
    "If you dont choose a name for your shock, mario will do it for you!"
   ]
  },
  {
   "cell_type": "markdown",
   "metadata": {},
   "source": [
    "### Defining the Clusters\n",
    "In order to impelemnt shocks on a bunch of items, you can use clusters. Lets implement a change in the local final demand of all sectors in italy for 10%, first without the clusters.\n",
    "\n",
    "In this way, user needs to replicate the same change for all the sectros in italy as shown in the picture\n",
    "\n",
    "![Alt text](no_cluster.png)\n"
   ]
  },
  {
   "cell_type": "markdown",
   "metadata": {},
   "source": [
    "n easier way to this shock is to use clusters. In this case user needs to define a cluster on the 'Sector'. But clusters can be defined on all the sets of the table (for checking all the sets of table you can use test.sets)\n",
    "\n",
    "A cluster on sectors can be defined as follow:"
   ]
  },
  {
   "cell_type": "code",
   "execution_count": 17,
   "metadata": {},
   "outputs": [],
   "source": [
    "clusters = {'Sector': # Cluster on which set\n",
    "                    {'All': test.get_index('Sector')    # what is the name of the cluster and what it contains\n",
    "                    }\n",
    "           }"
   ]
  },
  {
   "cell_type": "markdown",
   "metadata": {},
   "source": [
    "So in this case, we are making a cluster on Sector. The cluster will be called All and it contains all the Sectors in the database. Now if we request mario to generate the shock excel, 'All' is added as a valid option for the Sector."
   ]
  },
  {
   "cell_type": "code",
   "execution_count": 18,
   "metadata": {},
   "outputs": [],
   "source": [
    "save_path = 'shock_iot_cluster.xlsx'\n",
    "test.get_shock_excel(path=save_path,**clusters)"
   ]
  },
  {
   "cell_type": "markdown",
   "metadata": {},
   "source": [
    "The same shock now can be implemented as the shown in the pic:\n",
    "\n",
    "![Alt text](cluster.png)"
   ]
  },
  {
   "cell_type": "markdown",
   "metadata": {},
   "source": [
    "In order to implement a shock, we need to use the excel files and the definition of clusters as follow. Let's assume we call the filled excel file as shock_iot_cluster_filled.xlsx:"
   ]
  },
  {
   "cell_type": "code",
   "execution_count": 19,
   "metadata": {},
   "outputs": [],
   "source": [
    "test.shock_calc(\n",
    "    io=r'shock_iot_cluster_filled.xlsx', # Path to the excel file\n",
    "    Y= True, # the shock will be implemented on Y\n",
    "    **clusters\n",
    ")"
   ]
  },
  {
   "cell_type": "code",
   "execution_count": 20,
   "metadata": {},
   "outputs": [
    {
     "data": {
      "text/plain": [
       "['baseline', 'shock 1', 'shock 2']"
      ]
     },
     "execution_count": 20,
     "metadata": {},
     "output_type": "execute_result"
    }
   ],
   "source": [
    "test.scenarios"
   ]
  },
  {
   "cell_type": "markdown",
   "metadata": {},
   "source": [
    "Just to understand what is happening behind the scene, you can take a look to the metadata history:"
   ]
  },
  {
   "cell_type": "code",
   "execution_count": 21,
   "metadata": {},
   "outputs": [
    {
     "name": "stdout",
     "output_type": "stream",
     "text": [
      "[2024-06-26 18:54:48]    Table added into metadata with value equal to IOT.\n",
      "[2024-06-26 18:54:48]    Price added into metadata with value equal to None.\n",
      "[2024-06-26 18:54:48]    Source added into metadata with value equal to None.\n",
      "[2024-06-26 18:54:48]    Year added into metadata with value equal to None.\n",
      "[2024-06-26 18:54:48]    Shocks implemented from shock_iot_filled.xlsx as follow:\n",
      "[2024-06-26 18:54:48]    Shock (Notes): you may add some notes for metadata\n",
      "[2024-06-26 18:54:48]    Shock on z implemented: row_region_:Italy, row_level_:Sector, row_sector_:Services, column_region_:Italy, column_level_:Sector column_sector_:Services, type: Percentage, value: 0.1.\n",
      "[2024-06-26 18:54:48]    Shocks implemented from shock_iot_cluster_filled.xlsx as follow:\n",
      "[2024-06-26 18:54:48]    Shock on Y implemented: row_region:Italy, row_level:Sector, row_sector:['Agriculture', 'Mining', 'Manufacturing', 'Services', 'Construction', 'Transport'], column_region:Italy, demand_category: Final Demand, type: Percentage, value: 0.1.\n"
     ]
    }
   ],
   "source": [
    "test.meta_history"
   ]
  }
 ],
 "metadata": {
  "kernelspec": {
   "display_name": "mario_dev",
   "language": "python",
   "name": "python3"
  },
  "language_info": {
   "codemirror_mode": {
    "name": "ipython",
    "version": 3
   },
   "file_extension": ".py",
   "mimetype": "text/x-python",
   "name": "python",
   "nbconvert_exporter": "python",
   "pygments_lexer": "ipython3",
   "version": "3.11.9"
  }
 },
 "nbformat": 4,
 "nbformat_minor": 2
}
