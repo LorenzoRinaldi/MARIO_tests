{
 "cells": [
  {
   "cell_type": "markdown",
   "metadata": {},
   "source": [
    "# Parsing  custom database\n",
    "\n",
    "This tutorial shows how to build a custom database in Excel and how to parse it using MARIO. "
   ]
  },
  {
   "cell_type": "markdown",
   "metadata": {},
   "source": [
    "## Parsing from Excel\n",
    "\n",
    "Start by opening Excel or any equivalent software. \n",
    "Any custom MARIO-readable IOT must follow these rules:\n",
    "- It must be in .xlsx format\n",
    "- It must have two sheets. The first must contain the table, the second must be named \"units\" and contains the info on units of measure\n",
    "\n",
    "For instance, the following example is for a SUT of 2 regions, 2 commodities and 2 activities.\n",
    "\n",
    "### Table sheet\n",
    "\n",
    "![Alt text](SUT_example.jpg)\n",
    "\n",
    "\n",
    "The structure is the same for both IOTs and SUTs with the difference SUTs must differenciate between activities and commodities, while IOTs just needs sectors. \n",
    "You will notice:\n",
    "- There must be 3 level of indices on both rows and columns\n",
    "- The first level is always the name of the region, apart from those table sets not defined on regions, such as \"Factor of production\" and \"Satellite account\". For these two sets, just provide \"-\".\n",
    "- The second level is always the name of the set (i.e. \"Activity\", \"Commodity\", \"Consumption category\", \"Factor of production\", \"Satellite account\"). In case of an IOT, provide \"Sector\" instead of \"Activity\" and \"Commodity\"\n",
    "- The third level is a label, referring to the name of the item\n",
    "- There must not be blank cells within the matrices \n",
    "There are no particular rules for the order of the labels and sets, MARIO will always sort all the indices in alphabetical order before doing any calculation.\n",
    "\n",
    "### Units sheet\n",
    "Regardin unit of measures, this sheet must be named \"units\" and the header of the column of units (column C of the sheet) must be labelled \"unit\" as in the following example \n",
    "\n",
    "![Alt text](units_example.jpg)\n",
    "\n",
    "Again the rules are on the indices, that must be provided for all the labels, avoiding repeating the same label for multiple regions: regions indeed are not required in this sheet.\n",
    "MARIO can handle hybrid-units databases."
   ]
  },
  {
   "cell_type": "markdown",
   "metadata": {},
   "source": [
    "## Parsing a customized database\n",
    "\n",
    "Once the customized database is prepared in Excel, just provide the path, type of table (SUT or IOT) and the mode (flows or coefficients) and MARIO will be able to parse it using the \"parse_from_excel\" function"
   ]
  },
  {
   "cell_type": "code",
   "execution_count": 1,
   "metadata": {},
   "outputs": [],
   "source": [
    "import mario  # Import MARIO\n",
    "\n",
    "path = 'custom_SUT.xlsx'  # Define the desired path to the folder where Exiobase should be downloaded\n",
    "\n",
    "database = mario.parse_from_excel(\n",
    "    path = path,\n",
    "    table = 'SUT',\n",
    "    mode = 'flows',\n",
    ")"
   ]
  },
  {
   "cell_type": "code",
   "execution_count": 2,
   "metadata": {},
   "outputs": [
    {
     "data": {
      "text/html": [
       "<div>\n",
       "<style scoped>\n",
       "    .dataframe tbody tr th:only-of-type {\n",
       "        vertical-align: middle;\n",
       "    }\n",
       "\n",
       "    .dataframe tbody tr th {\n",
       "        vertical-align: top;\n",
       "    }\n",
       "\n",
       "    .dataframe thead th {\n",
       "        text-align: right;\n",
       "    }\n",
       "</style>\n",
       "<table border=\"1\" class=\"dataframe\">\n",
       "  <thead>\n",
       "    <tr style=\"text-align: right;\">\n",
       "      <th></th>\n",
       "      <th></th>\n",
       "      <th>Item</th>\n",
       "      <th>production</th>\n",
       "    </tr>\n",
       "    <tr>\n",
       "      <th>Region</th>\n",
       "      <th>Level</th>\n",
       "      <th>Item</th>\n",
       "      <th></th>\n",
       "    </tr>\n",
       "  </thead>\n",
       "  <tbody>\n",
       "    <tr>\n",
       "      <th rowspan=\"2\" valign=\"top\">R1</th>\n",
       "      <th rowspan=\"2\" valign=\"top\">Activity</th>\n",
       "      <th>Production of Goods</th>\n",
       "      <td>1.0</td>\n",
       "    </tr>\n",
       "    <tr>\n",
       "      <th>Production of Services</th>\n",
       "      <td>0.9</td>\n",
       "    </tr>\n",
       "    <tr>\n",
       "      <th rowspan=\"2\" valign=\"top\">R2</th>\n",
       "      <th rowspan=\"2\" valign=\"top\">Activity</th>\n",
       "      <th>Production of Goods</th>\n",
       "      <td>1.0</td>\n",
       "    </tr>\n",
       "    <tr>\n",
       "      <th>Production of Services</th>\n",
       "      <td>1.2</td>\n",
       "    </tr>\n",
       "    <tr>\n",
       "      <th rowspan=\"2\" valign=\"top\">R3</th>\n",
       "      <th rowspan=\"2\" valign=\"top\">Activity</th>\n",
       "      <th>Production of Goods</th>\n",
       "      <td>1.0</td>\n",
       "    </tr>\n",
       "    <tr>\n",
       "      <th>Production of Services</th>\n",
       "      <td>0.9</td>\n",
       "    </tr>\n",
       "    <tr>\n",
       "      <th rowspan=\"2\" valign=\"top\">R1</th>\n",
       "      <th rowspan=\"2\" valign=\"top\">Commodity</th>\n",
       "      <th>Goods</th>\n",
       "      <td>45.0</td>\n",
       "    </tr>\n",
       "    <tr>\n",
       "      <th>Services</th>\n",
       "      <td>31.4</td>\n",
       "    </tr>\n",
       "    <tr>\n",
       "      <th rowspan=\"2\" valign=\"top\">R2</th>\n",
       "      <th rowspan=\"2\" valign=\"top\">Commodity</th>\n",
       "      <th>Goods</th>\n",
       "      <td>66.0</td>\n",
       "    </tr>\n",
       "    <tr>\n",
       "      <th>Services</th>\n",
       "      <td>44.0</td>\n",
       "    </tr>\n",
       "    <tr>\n",
       "      <th rowspan=\"2\" valign=\"top\">R3</th>\n",
       "      <th rowspan=\"2\" valign=\"top\">Commodity</th>\n",
       "      <th>Goods</th>\n",
       "      <td>61.0</td>\n",
       "    </tr>\n",
       "    <tr>\n",
       "      <th>Services</th>\n",
       "      <td>44.0</td>\n",
       "    </tr>\n",
       "  </tbody>\n",
       "</table>\n",
       "</div>"
      ],
      "text/plain": [
       "Item                                     production\n",
       "Region Level     Item                              \n",
       "R1     Activity  Production of Goods            1.0\n",
       "                 Production of Services         0.9\n",
       "R2     Activity  Production of Goods            1.0\n",
       "                 Production of Services         1.2\n",
       "R3     Activity  Production of Goods            1.0\n",
       "                 Production of Services         0.9\n",
       "R1     Commodity Goods                         45.0\n",
       "                 Services                      31.4\n",
       "R2     Commodity Goods                         66.0\n",
       "                 Services                      44.0\n",
       "R3     Commodity Goods                         61.0\n",
       "                 Services                      44.0"
      ]
     },
     "execution_count": 2,
     "metadata": {},
     "output_type": "execute_result"
    }
   ],
   "source": [
    "database.X"
   ]
  },
  {
   "cell_type": "markdown",
   "metadata": {},
   "source": [
    "The same structure is replicable for IOT database. If you want to see how the table should look like, you can load the test models and save them to excel to have a closer look to the structure:"
   ]
  },
  {
   "cell_type": "code",
   "execution_count": 3,
   "metadata": {},
   "outputs": [],
   "source": [
    "mario.load_test(\"IOT\").to_excel(\"test_iot.xlsx\")"
   ]
  },
  {
   "cell_type": "markdown",
   "metadata": {},
   "source": [
    "## Parsing from pd.DataFrames\n",
    "\n",
    "You can also build a mario.Database, using pd.DataFrames:"
   ]
  },
  {
   "cell_type": "code",
   "execution_count": 4,
   "metadata": {},
   "outputs": [],
   "source": [
    "from mario import Database\n",
    "import pandas as pd\n",
    "import numpy as np"
   ]
  },
  {
   "cell_type": "code",
   "execution_count": 5,
   "metadata": {},
   "outputs": [],
   "source": [
    "# Creating indeces according to mario format\n",
    "regions  = ['reg.1']\n",
    "Z_levels = ['Sector']\n",
    "sectors  = ['sec.1','sec.2']\n",
    "\n",
    "factors   = ['Labor']\n",
    "satellite = ['CO2'] \n",
    "\n",
    "\n",
    "Y_level = ['Consumption category']\n",
    "demands = ['Households']\n",
    "\n",
    "Z_index   = pd.MultiIndex.from_product([regions,Z_levels,sectors])\n",
    "Y_columns = pd.MultiIndex.from_product([regions,Y_level,demands])"
   ]
  },
  {
   "cell_type": "code",
   "execution_count": 6,
   "metadata": {},
   "outputs": [],
   "source": [
    "# creating matrices\n",
    "Z = pd.DataFrame(\n",
    "    data =  np.array([\n",
    "            [10,70],\n",
    "            [50,10]]),\n",
    "    index = Z_index,\n",
    "    columns= Z_index\n",
    ")\n",
    "Y = pd.DataFrame(\n",
    "    data =  np.array([\n",
    "            [200],\n",
    "            [80]]),\n",
    "    index = Z_index,\n",
    "    columns= Y_columns,\n",
    ")\n",
    "E = pd.DataFrame(\n",
    "    data =  np.array([\n",
    "            [30,20]]),\n",
    "    index = satellite,\n",
    "    columns= Z_index,\n",
    ")\n",
    "V = pd.DataFrame(\n",
    "    data =  np.array([\n",
    "            [220,60]]),\n",
    "    index = factors,\n",
    "    columns= Z_index,\n",
    ")\n",
    "EY = pd.DataFrame(\n",
    "    data =  np.array([8]),\n",
    "    index = satellite,\n",
    "    columns= Y_columns,\n",
    ")"
   ]
  },
  {
   "cell_type": "code",
   "execution_count": 7,
   "metadata": {},
   "outputs": [
    {
     "data": {
      "text/html": [
       "<div>\n",
       "<style scoped>\n",
       "    .dataframe tbody tr th:only-of-type {\n",
       "        vertical-align: middle;\n",
       "    }\n",
       "\n",
       "    .dataframe tbody tr th {\n",
       "        vertical-align: top;\n",
       "    }\n",
       "\n",
       "    .dataframe thead tr th {\n",
       "        text-align: left;\n",
       "    }\n",
       "</style>\n",
       "<table border=\"1\" class=\"dataframe\">\n",
       "  <thead>\n",
       "    <tr>\n",
       "      <th></th>\n",
       "      <th></th>\n",
       "      <th></th>\n",
       "      <th colspan=\"2\" halign=\"left\">reg.1</th>\n",
       "    </tr>\n",
       "    <tr>\n",
       "      <th></th>\n",
       "      <th></th>\n",
       "      <th></th>\n",
       "      <th colspan=\"2\" halign=\"left\">Sector</th>\n",
       "    </tr>\n",
       "    <tr>\n",
       "      <th></th>\n",
       "      <th></th>\n",
       "      <th></th>\n",
       "      <th>sec.1</th>\n",
       "      <th>sec.2</th>\n",
       "    </tr>\n",
       "  </thead>\n",
       "  <tbody>\n",
       "    <tr>\n",
       "      <th rowspan=\"2\" valign=\"top\">reg.1</th>\n",
       "      <th rowspan=\"2\" valign=\"top\">Sector</th>\n",
       "      <th>sec.1</th>\n",
       "      <td>10</td>\n",
       "      <td>70</td>\n",
       "    </tr>\n",
       "    <tr>\n",
       "      <th>sec.2</th>\n",
       "      <td>50</td>\n",
       "      <td>10</td>\n",
       "    </tr>\n",
       "  </tbody>\n",
       "</table>\n",
       "</div>"
      ],
      "text/plain": [
       "                    reg.1      \n",
       "                   Sector      \n",
       "                    sec.1 sec.2\n",
       "reg.1 Sector sec.1     10    70\n",
       "             sec.2     50    10"
      ]
     },
     "execution_count": 7,
     "metadata": {},
     "output_type": "execute_result"
    }
   ],
   "source": [
    "Z"
   ]
  },
  {
   "cell_type": "code",
   "execution_count": 8,
   "metadata": {},
   "outputs": [
    {
     "data": {
      "text/html": [
       "<div>\n",
       "<style scoped>\n",
       "    .dataframe tbody tr th:only-of-type {\n",
       "        vertical-align: middle;\n",
       "    }\n",
       "\n",
       "    .dataframe tbody tr th {\n",
       "        vertical-align: top;\n",
       "    }\n",
       "\n",
       "    .dataframe thead tr th {\n",
       "        text-align: left;\n",
       "    }\n",
       "</style>\n",
       "<table border=\"1\" class=\"dataframe\">\n",
       "  <thead>\n",
       "    <tr>\n",
       "      <th></th>\n",
       "      <th></th>\n",
       "      <th></th>\n",
       "      <th>reg.1</th>\n",
       "    </tr>\n",
       "    <tr>\n",
       "      <th></th>\n",
       "      <th></th>\n",
       "      <th></th>\n",
       "      <th>Consumption category</th>\n",
       "    </tr>\n",
       "    <tr>\n",
       "      <th></th>\n",
       "      <th></th>\n",
       "      <th></th>\n",
       "      <th>Households</th>\n",
       "    </tr>\n",
       "  </thead>\n",
       "  <tbody>\n",
       "    <tr>\n",
       "      <th rowspan=\"2\" valign=\"top\">reg.1</th>\n",
       "      <th rowspan=\"2\" valign=\"top\">Sector</th>\n",
       "      <th>sec.1</th>\n",
       "      <td>200</td>\n",
       "    </tr>\n",
       "    <tr>\n",
       "      <th>sec.2</th>\n",
       "      <td>80</td>\n",
       "    </tr>\n",
       "  </tbody>\n",
       "</table>\n",
       "</div>"
      ],
      "text/plain": [
       "                                  reg.1\n",
       "                   Consumption category\n",
       "                             Households\n",
       "reg.1 Sector sec.1                  200\n",
       "             sec.2                   80"
      ]
     },
     "execution_count": 8,
     "metadata": {},
     "output_type": "execute_result"
    }
   ],
   "source": [
    "Y"
   ]
  },
  {
   "cell_type": "markdown",
   "metadata": {},
   "source": [
    "You also need to identify the units in a separate python dict as follow:"
   ]
  },
  {
   "cell_type": "code",
   "execution_count": 9,
   "metadata": {},
   "outputs": [],
   "source": [
    "# units as a dict of pd.DataFrames\n",
    "units= {\n",
    "    'Sector':pd.DataFrame('EUR',index=sectors,columns=['unit']),\n",
    "    'Satellite account':pd.DataFrame('Ton',index=satellite,columns=['unit']),\n",
    "    'Factor of production': pd.DataFrame('EUR',index=factors,columns=['unit'])\n",
    "    }"
   ]
  },
  {
   "cell_type": "code",
   "execution_count": 10,
   "metadata": {},
   "outputs": [
    {
     "data": {
      "text/plain": [
       "{'Sector':       unit\n",
       " sec.1  EUR\n",
       " sec.2  EUR,\n",
       " 'Satellite account':     unit\n",
       " CO2  Ton,\n",
       " 'Factor of production':       unit\n",
       " Labor  EUR}"
      ]
     },
     "execution_count": 10,
     "metadata": {},
     "output_type": "execute_result"
    }
   ],
   "source": [
    "units"
   ]
  },
  {
   "cell_type": "markdown",
   "metadata": {},
   "source": [
    "Now you can create a mario.Database object:"
   ]
  },
  {
   "cell_type": "code",
   "execution_count": 11,
   "metadata": {},
   "outputs": [],
   "source": [
    "# Creating a mario database\n",
    "data = Database(\n",
    "    Z=Z,            \n",
    "    Y=Y,\n",
    "    E=E,\n",
    "    V=V,\n",
    "    EY=EY,\n",
    "    table='IOT',\n",
    "    units=units,\n",
    "    name='iot test'\n",
    ")"
   ]
  },
  {
   "cell_type": "code",
   "execution_count": 12,
   "metadata": {},
   "outputs": [
    {
     "data": {
      "text/html": [
       "<div>\n",
       "<style scoped>\n",
       "    .dataframe tbody tr th:only-of-type {\n",
       "        vertical-align: middle;\n",
       "    }\n",
       "\n",
       "    .dataframe tbody tr th {\n",
       "        vertical-align: top;\n",
       "    }\n",
       "\n",
       "    .dataframe thead tr th {\n",
       "        text-align: left;\n",
       "    }\n",
       "\n",
       "    .dataframe thead tr:last-of-type th {\n",
       "        text-align: right;\n",
       "    }\n",
       "</style>\n",
       "<table border=\"1\" class=\"dataframe\">\n",
       "  <thead>\n",
       "    <tr>\n",
       "      <th></th>\n",
       "      <th></th>\n",
       "      <th>Region</th>\n",
       "      <th colspan=\"2\" halign=\"left\">reg.1</th>\n",
       "    </tr>\n",
       "    <tr>\n",
       "      <th></th>\n",
       "      <th></th>\n",
       "      <th>Level</th>\n",
       "      <th colspan=\"2\" halign=\"left\">Sector</th>\n",
       "    </tr>\n",
       "    <tr>\n",
       "      <th></th>\n",
       "      <th></th>\n",
       "      <th>Item</th>\n",
       "      <th>sec.1</th>\n",
       "      <th>sec.2</th>\n",
       "    </tr>\n",
       "    <tr>\n",
       "      <th>Region</th>\n",
       "      <th>Level</th>\n",
       "      <th>Item</th>\n",
       "      <th></th>\n",
       "      <th></th>\n",
       "    </tr>\n",
       "  </thead>\n",
       "  <tbody>\n",
       "    <tr>\n",
       "      <th rowspan=\"2\" valign=\"top\">reg.1</th>\n",
       "      <th rowspan=\"2\" valign=\"top\">Sector</th>\n",
       "      <th>sec.1</th>\n",
       "      <td>0.035714</td>\n",
       "      <td>0.500000</td>\n",
       "    </tr>\n",
       "    <tr>\n",
       "      <th>sec.2</th>\n",
       "      <td>0.178571</td>\n",
       "      <td>0.071429</td>\n",
       "    </tr>\n",
       "  </tbody>\n",
       "</table>\n",
       "</div>"
      ],
      "text/plain": [
       "Region                  reg.1          \n",
       "Level                  Sector          \n",
       "Item                    sec.1     sec.2\n",
       "Region Level  Item                     \n",
       "reg.1  Sector sec.1  0.035714  0.500000\n",
       "              sec.2  0.178571  0.071429"
      ]
     },
     "execution_count": 12,
     "metadata": {},
     "output_type": "execute_result"
    }
   ],
   "source": [
    "data.z"
   ]
  },
  {
   "cell_type": "code",
   "execution_count": 13,
   "metadata": {},
   "outputs": [
    {
     "name": "stderr",
     "output_type": "stream",
     "text": [
      "Database: to calculate p following matrices are need.\n",
      "['w'].Trying to calculate dependencies.\n"
     ]
    },
    {
     "data": {
      "text/html": [
       "<div>\n",
       "<style scoped>\n",
       "    .dataframe tbody tr th:only-of-type {\n",
       "        vertical-align: middle;\n",
       "    }\n",
       "\n",
       "    .dataframe tbody tr th {\n",
       "        vertical-align: top;\n",
       "    }\n",
       "\n",
       "    .dataframe thead th {\n",
       "        text-align: right;\n",
       "    }\n",
       "</style>\n",
       "<table border=\"1\" class=\"dataframe\">\n",
       "  <thead>\n",
       "    <tr style=\"text-align: right;\">\n",
       "      <th></th>\n",
       "      <th></th>\n",
       "      <th></th>\n",
       "      <th>price index</th>\n",
       "    </tr>\n",
       "    <tr>\n",
       "      <th>Region</th>\n",
       "      <th>Level</th>\n",
       "      <th>Item</th>\n",
       "      <th></th>\n",
       "    </tr>\n",
       "  </thead>\n",
       "  <tbody>\n",
       "    <tr>\n",
       "      <th rowspan=\"2\" valign=\"top\">reg.1</th>\n",
       "      <th rowspan=\"2\" valign=\"top\">Sector</th>\n",
       "      <th>sec.1</th>\n",
       "      <td>1.0</td>\n",
       "    </tr>\n",
       "    <tr>\n",
       "      <th>sec.2</th>\n",
       "      <td>1.0</td>\n",
       "    </tr>\n",
       "  </tbody>\n",
       "</table>\n",
       "</div>"
      ],
      "text/plain": [
       "                     price index\n",
       "Region Level  Item              \n",
       "reg.1  Sector sec.1          1.0\n",
       "              sec.2          1.0"
      ]
     },
     "execution_count": 13,
     "metadata": {},
     "output_type": "execute_result"
    }
   ],
   "source": [
    "data.p"
   ]
  }
 ],
 "metadata": {
  "kernelspec": {
   "display_name": "mario_test",
   "language": "python",
   "name": "python3"
  },
  "language_info": {
   "codemirror_mode": {
    "name": "ipython",
    "version": 3
   },
   "file_extension": ".py",
   "mimetype": "text/x-python",
   "name": "python",
   "nbconvert_exporter": "python",
   "pygments_lexer": "ipython3",
   "version": "3.11.9"
  }
 },
 "nbformat": 4,
 "nbformat_minor": 2
}
