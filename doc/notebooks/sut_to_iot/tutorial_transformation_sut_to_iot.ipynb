{
 "cells": [
  {
   "cell_type": "markdown",
   "metadata": {},
   "source": [
    "# Transforming a SUT into an IOT table\n",
    "\n",
    "This tutorial shows how to transform a SUT table into an IOT table\n",
    "\n",
    "## Background\n",
    "IOT tables are obtained by transforming SUTs according to a transformation model.\n",
    "The \"Eurostat Manual of Supply, Use and Input-Output Tables\" was our reference in scripting the transfromation methods. \n",
    "\n",
    "Link to the manual here: https://ec.europa.eu/eurostat/web/products-manuals-and-guidelines/-/ks-ra-07-013\n",
    "\n",
    "## Methods\n",
    "Four methods are exploitable to transform a SUT into an IOT. Each of them will lead to a specific type of IOT and embeds intrisic assumptions.\n",
    "\n",
    "- Method A. Commodity-by-commodity IOT based on the product-based technology assumption (possible negative values)\n",
    "- Method B. Commodity-by-commodity IOT based on the industry-based technology assumption\n",
    "- Method C. Activity-by-activity IOT based on fixed industry sales structure assumption (possible negative values)\n",
    "- Method D. Activity-by-activity IOT based on fixed product sales structure assumption\n"
   ]
  },
  {
   "cell_type": "markdown",
   "metadata": {},
   "source": [
    "## Perform the transformation \n",
    "First, we need to import a SUT table into MARIO. To do so, we can load the test SUT using the \"load_test\" method. "
   ]
  },
  {
   "cell_type": "code",
   "execution_count": 1,
   "metadata": {},
   "outputs": [
    {
     "name": "stderr",
     "output_type": "stream",
     "text": [
      "cvxpy module is not installed in your system. This will raise problems in some of the abilities of MARIO\n"
     ]
    }
   ],
   "source": [
    "import mario\n",
    "\n",
    "test_SUT = mario.load_test(table='SUT')"
   ]
  },
  {
   "cell_type": "markdown",
   "metadata": {},
   "source": [
    "It is possible to show the properties of the table by calling its name. It is a SUT table with 6 activities and 6 commodities"
   ]
  },
  {
   "cell_type": "code",
   "execution_count": 2,
   "metadata": {},
   "outputs": [
    {
     "data": {
      "text/plain": [
       "name = SUT test\n",
       "table = SUT\n",
       "scenarios = ['baseline']\n",
       "Activity = 6\n",
       "Commodity = 6\n",
       "Factor of production = 3\n",
       "Satellite account = 1\n",
       "Consumption category = 1\n",
       "Region = 2"
      ]
     },
     "execution_count": 2,
     "metadata": {},
     "output_type": "execute_result"
    }
   ],
   "source": [
    "test_SUT"
   ]
  },
  {
   "cell_type": "markdown",
   "metadata": {},
   "source": [
    "To perform the transformation, it is enought to call the \"to_iot\" method, passing one of the four transformation methods listed above ('A', 'B', 'C' or 'D')"
   ]
  },
  {
   "cell_type": "code",
   "execution_count": 3,
   "metadata": {},
   "outputs": [
    {
     "name": "stderr",
     "output_type": "stream",
     "text": [
      "baseline deleted from the database\n"
     ]
    }
   ],
   "source": [
    "test_SUT.to_iot(method='A') "
   ]
  },
  {
   "cell_type": "markdown",
   "metadata": {},
   "source": [
    "After the transformation, the table transformed to an IOT of 6 sectors"
   ]
  },
  {
   "cell_type": "code",
   "execution_count": 4,
   "metadata": {},
   "outputs": [
    {
     "data": {
      "text/plain": [
       "name = SUT test\n",
       "table = IOT\n",
       "scenarios = ['baseline']\n",
       "Factor of production = 3\n",
       "Satellite account = 1\n",
       "Consumption category = 1\n",
       "Region = 2\n",
       "Sector = 6"
      ]
     },
     "execution_count": 4,
     "metadata": {},
     "output_type": "execute_result"
    }
   ],
   "source": [
    "test_SUT"
   ]
  }
 ],
 "metadata": {
  "kernelspec": {
   "display_name": "mario_test",
   "language": "python",
   "name": "python3"
  },
  "language_info": {
   "codemirror_mode": {
    "name": "ipython",
    "version": 3
   },
   "file_extension": ".py",
   "mimetype": "text/x-python",
   "name": "python",
   "nbconvert_exporter": "python",
   "pygments_lexer": "ipython3",
   "version": "3.11.9"
  }
 },
 "nbformat": 4,
 "nbformat_minor": 2
}
