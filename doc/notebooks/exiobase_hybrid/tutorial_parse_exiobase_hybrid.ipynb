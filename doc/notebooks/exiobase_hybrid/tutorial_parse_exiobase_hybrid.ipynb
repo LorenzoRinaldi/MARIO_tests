{
 "cells": [
  {
   "cell_type": "markdown",
   "metadata": {},
   "source": [
    "# Parsing Exiobase v3.3.18 (supply-use hybrid-units)\n",
    "\n",
    "This tutorial shows how to parse the Exiobase v3.3.18 database in supply-use (SUT) format. "
   ]
  },
  {
   "cell_type": "markdown",
   "metadata": {},
   "source": [
    "## Downloading the database\n",
    "\n",
    "The database is available at the following Zenodo repository: https://zenodo.org/doi/10.5281/zenodo.7244918. \n",
    "You can manually download the repository or use the automatic download function available in MARIO, as shown here below."
   ]
  },
  {
   "cell_type": "code",
   "execution_count": 1,
   "metadata": {},
   "outputs": [],
   "source": [
    "import mario  # Import MARIO\n",
    "\n",
    "exiobase_path = 'Exiobase v3.3.18'  # Define the desired path to the folder where Exiobase should be downloaded\n",
    "mario.download_hybrid_exiobase(exiobase_path)  # Download the hybrid Exiobase into the desired folder"
   ]
  },
  {
   "cell_type": "markdown",
   "metadata": {},
   "source": [
    "## Parsing the downloaded database\n",
    "\n",
    "Once the Exiobase database is stored in a given path ('exiobase_path' in this example), it is possible to parse it into a mario.Database object.\n",
    "The 'parse_exiobase' function is suitable to parse any version of Exiobase, providing the type of table ('SUT' or 'IOT), the type of unit ('Hybrid' or 'Monetary') and the directory where the database is stored.\n",
    "\n",
    "The 'extensions' attribute allows to select which environmental transactions should be parsed. Options must be provided in a list and are: 'resource', 'Land', 'Emiss', 'Emis_unreg_w', 'waste_sup', 'waste_use', 'pack_sup_waste', 'pack_use_waste', 'mach_sup_waste', 'mach_use_waste', 'stock_addition', 'crop_res', 'Unreg_w'"
   ]
  },
  {
   "cell_type": "code",
   "execution_count": 2,
   "metadata": {},
   "outputs": [],
   "source": [
    "exiobase = mario.parse_exiobase(\n",
    "    table = 'SUT',\n",
    "    unit = 'Hybrid',\n",
    "    path = exiobase_path,\n",
    "    extensions = 'all',   # Include all satellite accounts. By default is \"\" (None)\n",
    ")"
   ]
  },
  {
   "cell_type": "markdown",
   "metadata": {},
   "source": [
    "## Exploring the database\n",
    "\n",
    "Once the database is parsed, MARIO offers useful methods to explore and navigate the database.\n",
    "\n",
    "### Checking units of measure\n",
    "In a hybrid-units database it may be interesting to check the unit of measure of the database's sets.  "
   ]
  },
  {
   "cell_type": "code",
   "execution_count": 3,
   "metadata": {},
   "outputs": [
    {
     "data": {
      "text/html": [
       "<div>\n",
       "<style scoped>\n",
       "    .dataframe tbody tr th:only-of-type {\n",
       "        vertical-align: middle;\n",
       "    }\n",
       "\n",
       "    .dataframe tbody tr th {\n",
       "        vertical-align: top;\n",
       "    }\n",
       "\n",
       "    .dataframe thead th {\n",
       "        text-align: right;\n",
       "    }\n",
       "</style>\n",
       "<table border=\"1\" class=\"dataframe\">\n",
       "  <thead>\n",
       "    <tr style=\"text-align: right;\">\n",
       "      <th></th>\n",
       "      <th>unit</th>\n",
       "    </tr>\n",
       "  </thead>\n",
       "  <tbody>\n",
       "    <tr>\n",
       "      <th>Paddy rice</th>\n",
       "      <td>tonnes</td>\n",
       "    </tr>\n",
       "    <tr>\n",
       "      <th>Wheat</th>\n",
       "      <td>tonnes</td>\n",
       "    </tr>\n",
       "    <tr>\n",
       "      <th>Cereal grains nec</th>\n",
       "      <td>tonnes</td>\n",
       "    </tr>\n",
       "    <tr>\n",
       "      <th>Vegetables; fruit; nuts</th>\n",
       "      <td>tonnes</td>\n",
       "    </tr>\n",
       "    <tr>\n",
       "      <th>Oil seeds</th>\n",
       "      <td>tonnes</td>\n",
       "    </tr>\n",
       "    <tr>\n",
       "      <th>...</th>\n",
       "      <td>...</td>\n",
       "    </tr>\n",
       "    <tr>\n",
       "      <th>Membership organisation services n.e.c. (91)</th>\n",
       "      <td>Meuro</td>\n",
       "    </tr>\n",
       "    <tr>\n",
       "      <th>Recreational; cultural and sporting services (92)</th>\n",
       "      <td>Meuro</td>\n",
       "    </tr>\n",
       "    <tr>\n",
       "      <th>Other services (93)</th>\n",
       "      <td>Meuro</td>\n",
       "    </tr>\n",
       "    <tr>\n",
       "      <th>Private households with employed persons (95)</th>\n",
       "      <td>Meuro</td>\n",
       "    </tr>\n",
       "    <tr>\n",
       "      <th>Extra-territorial organizations and bodies</th>\n",
       "      <td>Meuro</td>\n",
       "    </tr>\n",
       "  </tbody>\n",
       "</table>\n",
       "<p>200 rows × 1 columns</p>\n",
       "</div>"
      ],
      "text/plain": [
       "                                                     unit\n",
       "Paddy rice                                         tonnes\n",
       "Wheat                                              tonnes\n",
       "Cereal grains nec                                  tonnes\n",
       "Vegetables; fruit; nuts                            tonnes\n",
       "Oil seeds                                          tonnes\n",
       "...                                                   ...\n",
       "Membership organisation services n.e.c. (91)        Meuro\n",
       "Recreational; cultural and sporting services (92)   Meuro\n",
       "Other services (93)                                 Meuro\n",
       "Private households with employed persons (95)       Meuro\n",
       "Extra-territorial organizations and bodies          Meuro\n",
       "\n",
       "[200 rows x 1 columns]"
      ]
     },
     "execution_count": 3,
     "metadata": {},
     "output_type": "execute_result"
    }
   ],
   "source": [
    "exiobase.units['Commodity'] "
   ]
  },
  {
   "cell_type": "code",
   "execution_count": 4,
   "metadata": {},
   "outputs": [
    {
     "data": {
      "text/html": [
       "<div>\n",
       "<style scoped>\n",
       "    .dataframe tbody tr th:only-of-type {\n",
       "        vertical-align: middle;\n",
       "    }\n",
       "\n",
       "    .dataframe tbody tr th {\n",
       "        vertical-align: top;\n",
       "    }\n",
       "\n",
       "    .dataframe thead th {\n",
       "        text-align: right;\n",
       "    }\n",
       "</style>\n",
       "<table border=\"1\" class=\"dataframe\">\n",
       "  <thead>\n",
       "    <tr style=\"text-align: right;\">\n",
       "      <th></th>\n",
       "      <th>unit</th>\n",
       "    </tr>\n",
       "  </thead>\n",
       "  <tbody>\n",
       "    <tr>\n",
       "      <th>Aquatic plants (resource)</th>\n",
       "      <td>tonne</td>\n",
       "    </tr>\n",
       "    <tr>\n",
       "      <th>Bauxite and aluminium ores (resource)</th>\n",
       "      <td>tonne</td>\n",
       "    </tr>\n",
       "    <tr>\n",
       "      <th>Building stones (resource)</th>\n",
       "      <td>tonne</td>\n",
       "    </tr>\n",
       "    <tr>\n",
       "      <th>Chemical and fertilizer minerals (resource)</th>\n",
       "      <td>tonne</td>\n",
       "    </tr>\n",
       "    <tr>\n",
       "      <th>Clays and kaolin (resource)</th>\n",
       "      <td>tonne</td>\n",
       "    </tr>\n",
       "    <tr>\n",
       "      <th>...</th>\n",
       "      <td>...</td>\n",
       "    </tr>\n",
       "    <tr>\n",
       "      <th>Construction materials and mining waste (excl. unused mining material) (Unreg_w)</th>\n",
       "      <td>tonne</td>\n",
       "    </tr>\n",
       "    <tr>\n",
       "      <th>Oils and hazardous materials (Unreg_w)</th>\n",
       "      <td>tonne</td>\n",
       "    </tr>\n",
       "    <tr>\n",
       "      <th>Sewage (Unreg_w)</th>\n",
       "      <td>tonne</td>\n",
       "    </tr>\n",
       "    <tr>\n",
       "      <th>Mining waste (Unreg_w)</th>\n",
       "      <td>tonne</td>\n",
       "    </tr>\n",
       "    <tr>\n",
       "      <th>Unused waste (Unreg_w)</th>\n",
       "      <td>tonne</td>\n",
       "    </tr>\n",
       "  </tbody>\n",
       "</table>\n",
       "<p>336 rows × 1 columns</p>\n",
       "</div>"
      ],
      "text/plain": [
       "                                                     unit\n",
       "Aquatic plants (resource)                           tonne\n",
       "Bauxite and aluminium ores (resource)               tonne\n",
       "Building stones (resource)                          tonne\n",
       "Chemical and fertilizer minerals (resource)         tonne\n",
       "Clays and kaolin (resource)                         tonne\n",
       "...                                                   ...\n",
       "Construction materials and mining waste (excl. ...  tonne\n",
       "Oils and hazardous materials (Unreg_w)              tonne\n",
       "Sewage (Unreg_w)                                    tonne\n",
       "Mining waste (Unreg_w)                              tonne\n",
       "Unused waste (Unreg_w)                              tonne\n",
       "\n",
       "[336 rows x 1 columns]"
      ]
     },
     "execution_count": 4,
     "metadata": {},
     "output_type": "execute_result"
    }
   ],
   "source": [
    "exiobase.units['Satellite account'] "
   ]
  },
  {
   "cell_type": "markdown",
   "metadata": {},
   "source": [
    "Note that the \"Activity\" set, in hybrid databases, do not have unit of measure since each activity may supply heterogeneus commodities as output"
   ]
  },
  {
   "cell_type": "code",
   "execution_count": 5,
   "metadata": {},
   "outputs": [
    {
     "data": {
      "text/html": [
       "<div>\n",
       "<style scoped>\n",
       "    .dataframe tbody tr th:only-of-type {\n",
       "        vertical-align: middle;\n",
       "    }\n",
       "\n",
       "    .dataframe tbody tr th {\n",
       "        vertical-align: top;\n",
       "    }\n",
       "\n",
       "    .dataframe thead th {\n",
       "        text-align: right;\n",
       "    }\n",
       "</style>\n",
       "<table border=\"1\" class=\"dataframe\">\n",
       "  <thead>\n",
       "    <tr style=\"text-align: right;\">\n",
       "      <th></th>\n",
       "      <th>unit</th>\n",
       "    </tr>\n",
       "  </thead>\n",
       "  <tbody>\n",
       "    <tr>\n",
       "      <th>Cultivation of paddy rice</th>\n",
       "      <td>None</td>\n",
       "    </tr>\n",
       "    <tr>\n",
       "      <th>Cultivation of wheat</th>\n",
       "      <td>None</td>\n",
       "    </tr>\n",
       "    <tr>\n",
       "      <th>Cultivation of cereal grains nec</th>\n",
       "      <td>None</td>\n",
       "    </tr>\n",
       "    <tr>\n",
       "      <th>Cultivation of vegetables, fruit, nuts</th>\n",
       "      <td>None</td>\n",
       "    </tr>\n",
       "    <tr>\n",
       "      <th>Cultivation of oil seeds</th>\n",
       "      <td>None</td>\n",
       "    </tr>\n",
       "    <tr>\n",
       "      <th>...</th>\n",
       "      <td>...</td>\n",
       "    </tr>\n",
       "    <tr>\n",
       "      <th>Activities of membership organisation n.e.c. (91)</th>\n",
       "      <td>None</td>\n",
       "    </tr>\n",
       "    <tr>\n",
       "      <th>Recreational, cultural and sporting activities (92)</th>\n",
       "      <td>None</td>\n",
       "    </tr>\n",
       "    <tr>\n",
       "      <th>Other service activities (93)</th>\n",
       "      <td>None</td>\n",
       "    </tr>\n",
       "    <tr>\n",
       "      <th>Private households with employed persons (95)</th>\n",
       "      <td>None</td>\n",
       "    </tr>\n",
       "    <tr>\n",
       "      <th>Extra-territorial organizations and bodies</th>\n",
       "      <td>None</td>\n",
       "    </tr>\n",
       "  </tbody>\n",
       "</table>\n",
       "<p>164 rows × 1 columns</p>\n",
       "</div>"
      ],
      "text/plain": [
       "                                                    unit\n",
       "Cultivation of paddy rice                           None\n",
       "Cultivation of wheat                                None\n",
       "Cultivation of cereal grains nec                    None\n",
       "Cultivation of vegetables, fruit, nuts              None\n",
       "Cultivation of oil seeds                            None\n",
       "...                                                  ...\n",
       "Activities of membership organisation n.e.c. (91)   None\n",
       "Recreational, cultural and sporting activities ...  None\n",
       "Other service activities (93)                       None\n",
       "Private households with employed persons (95)       None\n",
       "Extra-territorial organizations and bodies          None\n",
       "\n",
       "[164 rows x 1 columns]"
      ]
     },
     "execution_count": 5,
     "metadata": {},
     "output_type": "execute_result"
    }
   ],
   "source": [
    "exiobase.units['Activity']"
   ]
  }
 ],
 "metadata": {
  "kernelspec": {
   "display_name": "mario_test",
   "language": "python",
   "name": "python3"
  },
  "language_info": {
   "codemirror_mode": {
    "name": "ipython",
    "version": 3
   },
   "file_extension": ".py",
   "mimetype": "text/x-python",
   "name": "python",
   "nbconvert_exporter": "python",
   "pygments_lexer": "ipython3",
   "version": "3.11.9"
  }
 },
 "nbformat": 4,
 "nbformat_minor": 2
}
