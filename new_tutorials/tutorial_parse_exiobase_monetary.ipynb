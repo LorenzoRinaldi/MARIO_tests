{
 "cells": [
  {
   "cell_type": "markdown",
   "metadata": {},
   "source": [
    "# Parsing Exiobase v3.8.2 (Monetary units)\n",
    "\n",
    "This tutorial shows how to parse the Exiobase v3.8.2 database in supply-use (SUT) and input-output (IOT) format. "
   ]
  },
  {
   "cell_type": "markdown",
   "metadata": {},
   "source": [
    "## Downloading the database\n",
    "\n",
    "The database is available at the following Zenodo repository: https://zenodo.org/records/5589597. \n",
    "You can manually download the repository. In this example we are going to show how to parse a SUT and a IOT both for 2019"
   ]
  },
  {
   "cell_type": "markdown",
   "metadata": {},
   "source": [
    "## Parsing the downloaded SUT database\n",
    "\n",
    "Once the Exiobase database is stored in a given path ('SUT_path' in this example, where we target the SUT for 2019), it is possible to parse it into a mario.Database object.\n",
    "The 'parse_exiobase' function is suitable to parse any version of Exiobase, providing the type of table ('SUT' or 'IOT), the type of unit ('Hybrid' or 'Monetary') and the directory where the database is stored.\n",
    "\n",
    "It is not necessary to unzip the downloaded file"
   ]
  },
  {
   "cell_type": "code",
   "execution_count": 2,
   "metadata": {},
   "outputs": [
    {
     "name": "stderr",
     "output_type": "stream",
     "text": [
      "cvxpy module is not installed in your system. This will raise problems in some of the abilities of MARIO\n"
     ]
    }
   ],
   "source": [
    "import mario  # Import MARIO\n",
    "\n",
    "SUT_path = 'EXIOBASE_folder/MRSUT_2019.zip'  # Define the desired path to the folder where Exiobase should be downloaded\n",
    "\n",
    "exiobase = mario.parse_exiobase(\n",
    "    table = 'SUT',\n",
    "    unit = 'Monetary',\n",
    "    path = SUT_path,\n",
    ")"
   ]
  },
  {
   "cell_type": "markdown",
   "metadata": {},
   "source": [
    "## Exploring the database\n",
    "Once the database is parsed, MARIO offers useful methods to explore and navigate the database.\n",
    "\n",
    "### Searching for activities\n",
    "Adopting the 'search' method of the Database class, MARIO allows the user to extract a list out of a given database set which contain a desired string.\n",
    "For instance, it is possible to extract all the activities containing the \"gas\" string.  "
   ]
  },
  {
   "cell_type": "code",
   "execution_count": 3,
   "metadata": {},
   "outputs": [
    {
     "data": {
      "text/plain": [
       "['Manure treatment (biogas), storage and land application',\n",
       " 'Extraction of natural gas and services related to natural gas extraction, excluding surveying',\n",
       " 'Extraction, liquefaction, and regasification of other petroleum and gaseous materials',\n",
       " 'Production of electricity by gas',\n",
       " 'Manufacture of gas; distribution of gaseous fuels through mains',\n",
       " 'Biogasification of food waste, incl. land application',\n",
       " 'Biogasification of paper, incl. land application',\n",
       " 'Biogasification of sewage slugde, incl. land application']"
      ]
     },
     "execution_count": 3,
     "metadata": {},
     "output_type": "execute_result"
    }
   ],
   "source": [
    "exiobase.search('Activity','gas') "
   ]
  },
  {
   "cell_type": "markdown",
   "metadata": {},
   "source": [
    "The easy rule is to always refer to the database sets using the singular and the first capital letter (e.g. 'Satellite account', 'Commodity',...)"
   ]
  },
  {
   "cell_type": "markdown",
   "metadata": {},
   "source": [
    "### Getting set list\n",
    "In case the objective is to get the full list of labels contained in a set, the 'get_index' method allows to do so.\n",
    "Again, use the singular and capital letter."
   ]
  },
  {
   "cell_type": "code",
   "execution_count": 4,
   "metadata": {},
   "outputs": [
    {
     "data": {
      "text/plain": [
       "['AT',\n",
       " 'BE',\n",
       " 'BG',\n",
       " 'CY',\n",
       " 'CZ',\n",
       " 'DE',\n",
       " 'DK',\n",
       " 'EE',\n",
       " 'ES',\n",
       " 'FI',\n",
       " 'FR',\n",
       " 'GR',\n",
       " 'HR',\n",
       " 'HU',\n",
       " 'IE',\n",
       " 'IT',\n",
       " 'LT',\n",
       " 'LU',\n",
       " 'LV',\n",
       " 'MT',\n",
       " 'NL',\n",
       " 'PL',\n",
       " 'PT',\n",
       " 'RO',\n",
       " 'SE',\n",
       " 'SI',\n",
       " 'SK',\n",
       " 'GB',\n",
       " 'US',\n",
       " 'JP',\n",
       " 'CN',\n",
       " 'CA',\n",
       " 'KR',\n",
       " 'BR',\n",
       " 'IN',\n",
       " 'MX',\n",
       " 'RU',\n",
       " 'AU',\n",
       " 'CH',\n",
       " 'TR',\n",
       " 'TW',\n",
       " 'NO',\n",
       " 'ID',\n",
       " 'ZA',\n",
       " 'WA',\n",
       " 'WL',\n",
       " 'WE',\n",
       " 'WF',\n",
       " 'WM']"
      ]
     },
     "execution_count": 4,
     "metadata": {},
     "output_type": "execute_result"
    }
   ],
   "source": [
    "exiobase.get_index('Region')"
   ]
  },
  {
   "cell_type": "code",
   "execution_count": 5,
   "metadata": {},
   "outputs": [
    {
     "data": {
      "text/plain": [
       "['Taxes less subsidies on products purchased: Total',\n",
       " 'Taxes on products purchased',\n",
       " 'Subsidies on products purchased',\n",
       " 'Other net taxes on production',\n",
       " \"Compensation of employees; wages, salaries, & employers' social contributions: Total\",\n",
       " \"Compensation of employees; wages, salaries, & employers' social contributions: Low-skilled\",\n",
       " \"Compensation of employees; wages, salaries, & employers' social contributions: Medium-skilled\",\n",
       " \"Compensation of employees; wages, salaries, & employers' social contributions: High-skilled\",\n",
       " 'Operating surplus: Consumption of fixed capital',\n",
       " 'Operating surplus: Rents on land',\n",
       " 'Operating surplus: Royalties on resources',\n",
       " 'Operating surplus: Remaining net operating surplus']"
      ]
     },
     "execution_count": 5,
     "metadata": {},
     "output_type": "execute_result"
    }
   ],
   "source": [
    "exiobase.get_index('Factor of production')"
   ]
  },
  {
   "cell_type": "markdown",
   "metadata": {},
   "source": [
    "## Parsing the downloaded IOT database\n",
    "\n",
    "Moving to the IOT database, once it is downloaded and stored in a given path ('IOT_path' in this example, where we target the industry-by-industry IOT for 2019), it is possible to parse it into a mario.Database object.\n",
    "Again, the 'parse_exiobase' function is suitable to parse this version of Exiobase, providing the type of table ('IOT' in this case), the type of unit (again, 'Monetary') and the directory where the database is stored."
   ]
  },
  {
   "cell_type": "code",
   "execution_count": 6,
   "metadata": {},
   "outputs": [],
   "source": [
    "IOT_path = 'EXIOBASE_folder/IOT_2019_ixi.zip'  # Define the desired path to the folder where Exiobase should be downloaded\n",
    "\n",
    "exiobase = mario.parse_exiobase(\n",
    "    table = 'IOT',\n",
    "    unit = 'Monetary',\n",
    "    path = IOT_path,\n",
    ")"
   ]
  },
  {
   "cell_type": "markdown",
   "metadata": {},
   "source": [
    "Note that there is no need to specify whether the database is defined as industry-by-industry or as product-by-product. MARIO will deal with any IOT in the same manner: unlike for SUTs, which distinguish \"Activity\" and \"Commodity\" among their sets, the IOTs presents the \"Sector\" set.\n",
    "\n",
    "This can be tested just by calling the 'exiobase' object, to show the sets of the parsed database, noticing the database has 163 items within the \"Sector\" set. "
   ]
  },
  {
   "cell_type": "code",
   "execution_count": 7,
   "metadata": {},
   "outputs": [
    {
     "data": {
      "text/plain": [
       "name = None\n",
       "table = IOT\n",
       "scenarios = ['baseline']\n",
       "Factor of production = 9\n",
       "Satellite account = 1104\n",
       "Consumption category = 7\n",
       "Region = 49\n",
       "Sector = 163"
      ]
     },
     "execution_count": 7,
     "metadata": {},
     "output_type": "execute_result"
    }
   ],
   "source": [
    "exiobase"
   ]
  },
  {
   "cell_type": "markdown",
   "metadata": {},
   "source": [
    "The 'search' and 'get_index' methods can be applied to the IOT in the same way as for the SUT."
   ]
  }
 ],
 "metadata": {
  "kernelspec": {
   "display_name": "mario_test",
   "language": "python",
   "name": "python3"
  },
  "language_info": {
   "codemirror_mode": {
    "name": "ipython",
    "version": 3
   },
   "file_extension": ".py",
   "mimetype": "text/x-python",
   "name": "python",
   "nbconvert_exporter": "python",
   "pygments_lexer": "ipython3",
   "version": "3.10.14"
  }
 },
 "nbformat": 4,
 "nbformat_minor": 2
}
