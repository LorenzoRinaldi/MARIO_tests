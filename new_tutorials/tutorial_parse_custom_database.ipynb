{
 "cells": [
  {
   "cell_type": "markdown",
   "metadata": {},
   "source": [
    "# Parsing a custom database with MARIO\n",
    "\n",
    "This tutorial shows how to build a custom database in Excel and how to parse it using MARIO. "
   ]
  },
  {
   "cell_type": "markdown",
   "metadata": {},
   "source": [
    "## Preparing the table in Excel\n",
    "\n",
    "Start by opening Excel or any equivalent software. \n",
    "Any custom MARIO-readable IOT must follow these rules:\n",
    "- It must be in .xlsx format\n",
    "- It must have two sheets. The first must contain the table, the second must be named \"units\" and contains the info on units of measure\n",
    "\n",
    "For instance, the following example is for a SUT of 2 regions, 2 commodities and 2 activities.\n",
    "\n",
    "### Table sheet\n",
    "\n",
    "![Alt text](Custom_database_folder\\SUT_example.jpg)\n",
    "\n",
    "\n",
    "The structure is the same for both IOTs and SUTs with the difference SUTs must differenciate between activities and commodities, while IOTs just needs sectors. \n",
    "You will notice:\n",
    "- There must be 3 level of indices on both rows and columns\n",
    "- The first level is always the name of the region, apart from those table sets not defined on regions, such as \"Factor of production\" and \"Satellite account\". For these two sets, just provide \"-\".\n",
    "- The second level is always the name of the set (i.e. \"Activity\", \"Commodity\", \"Consumption category\", \"Factor of production\", \"Satellite account\"). In case of an IOT, provide \"Sector\" instead of \"Activity\" and \"Commodity\"\n",
    "- The third level is a label, referring to the name of the item\n",
    "- There must not be blank cells within the matrices \n",
    "There are no particular rules for the order of the labels and sets, MARIO will always sort all the indices in alphabetical order before doing any calculation.\n",
    "\n",
    "### Units sheet\n",
    "Regardin unit of measures, this sheet must be named \"units\" and the header of the column of units (column C of the sheet) must be labelled \"unit\" as in the following example \n",
    "\n",
    "![Alt text](Custom_database_folder\\units_example.jpg)\n",
    "\n",
    "Again the rules are on the indices, that must be provided for all the labels, avoiding repeating the same label for multiple regions: regions indeed are not required in this sheet.\n",
    "MARIO can handle hybrid-units databases."
   ]
  },
  {
   "cell_type": "markdown",
   "metadata": {},
   "source": [
    "## Parsing a customized database\n",
    "\n",
    "Once the customized database is prepared in Excel, just provide the path, type of table (SUT or IOT) and the mode (flows or coefficients) and MARIO will be able to parse it using the \"parse_from_excel\" function"
   ]
  },
  {
   "cell_type": "code",
   "execution_count": 4,
   "metadata": {},
   "outputs": [],
   "source": [
    "import mario  # Import MARIO\n",
    "\n",
    "path = 'Custom_database_folder\\custom_SUT.xlsx'  # Define the desired path to the folder where Exiobase should be downloaded\n",
    "\n",
    "exiobase = mario.parse_from_excel(\n",
    "    path = path,\n",
    "    table = 'SUT',\n",
    "    mode = 'coefficients',\n",
    ")"
   ]
  },
  {
   "cell_type": "markdown",
   "metadata": {},
   "source": [
    "## Navigating the database\n",
    "\n",
    "Please refer to the Exiobase parser examples for hints on how to navigate a mario.Database object with the 'search' and 'get_index' methods"
   ]
  }
 ],
 "metadata": {
  "kernelspec": {
   "display_name": "mario_test",
   "language": "python",
   "name": "python3"
  },
  "language_info": {
   "codemirror_mode": {
    "name": "ipython",
    "version": 3
   },
   "file_extension": ".py",
   "mimetype": "text/x-python",
   "name": "python",
   "nbconvert_exporter": "python",
   "pygments_lexer": "ipython3",
   "version": "3.10.14"
  }
 },
 "nbformat": 4,
 "nbformat_minor": 2
}
