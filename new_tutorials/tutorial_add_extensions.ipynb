{
 "cells": [
  {
   "cell_type": "markdown",
   "metadata": {},
   "source": [
    "# Adding satellite accounts\n",
    "\n",
    "This tutorial shows how to possibly add satellite accounts to any mario.Database object"
   ]
  },
  {
   "cell_type": "markdown",
   "metadata": {},
   "source": [
    "## Background\n",
    "\n",
    "Input-output tables are not necessarily enriched with satellite accounts (i.e. environmentally-extended). However, in the field of industrial ecology and life-cycle assessment (LCA), it is paramount each industrial activity is characterized also in terms of its interactions with the external environment. Satellite accounts may cover also non-environmental information, such as employment (e.g. employed people by each activity)\n",
    "\n",
    "Having the possibility to extend IOTs and SUTs to additional accounts may be helpful for many analysts and modellers."
   ]
  },
  {
   "cell_type": "markdown",
   "metadata": {},
   "source": [
    "## Adding extensions on a custom IOT\n",
    "\n",
    "Starting from the test IOT matrix of mario, we can see the table has four satellite accounts"
   ]
  },
  {
   "cell_type": "code",
   "execution_count": null,
   "metadata": {},
   "outputs": [],
   "source": [
    "import mario  # Import MARIO\n",
    "\n",
    "test_IOT = mario.load_test(table='IOT')\n",
    "test_IOT.get_index('Satellite account')"
   ]
  },
  {
   "cell_type": "markdown",
   "metadata": {},
   "source": [
    "### Preparing data in Excel\n",
    "\n",
    "Let's assume we desire to extend the table to account for \"CH4\" emissions. First, we need to prepare the data in the proper format in Excel. MARIO provides an Excel template by calling the 'get_extensions_excel' method"
   ]
  },
  {
   "cell_type": "code",
   "execution_count": null,
   "metadata": {},
   "outputs": [],
   "source": [
    "path = 'add_extensions/new_E_accounts.xlsx'\n",
    "test_IOT.get_extensions_excel(matrix='E',path=path)"
   ]
  },
  {
   "cell_type": "markdown",
   "metadata": {},
   "source": [
    "The data is then filled with the desired information, in this case regarding CH4 emissions. These data needs to be collected separately by the analyst.\n",
    "\n",
    "![Alt text](add_extensions\\new_E.jpg)\n",
    "\n",
    "This data can be parsed using pandas 'read_excel' method. In this case the data are stored in the file targeted by the given path and in the sheet named \"E flows\". "
   ]
  },
  {
   "cell_type": "markdown",
   "metadata": {},
   "source": [
    "It is also important to provide the unit of measure of the new accounts, that must be provided as reported also in the next Figure.\n",
    "\n",
    "![Alt text](add_extensions\\units.jpg)\n",
    "\n",
    "The units can be parsed using pandas, by adding a 'units' sheet to the Excel file provided by MARIO or in any other file"
   ]
  },
  {
   "cell_type": "code",
   "execution_count": null,
   "metadata": {},
   "outputs": [],
   "source": [
    "import pandas as pd\n",
    "\n",
    "units = pd.read_excel(path, sheet_name='units',index_col=[0],header=[0])\n",
    "units"
   ]
  },
  {
   "cell_type": "markdown",
   "metadata": {},
   "source": [
    "## Adding the new satellite accounts\n",
    "Once both data and units are parsed, just call the \"add_extensions\" method of the mario.Database class and provide the required information"
   ]
  },
  {
   "cell_type": "code",
   "execution_count": null,
   "metadata": {},
   "outputs": [],
   "source": [
    "test_IOT.add_extensions(\n",
    "    io=path,\n",
    "    units=units,\n",
    "    matrix='E'\n",
    "    )"
   ]
  },
  {
   "cell_type": "markdown",
   "metadata": {},
   "source": [
    "## Adding extensions to Exiobase monetary SUTs from corresponding IOTs\n",
    "\n",
    "Another relevant application of the 'add_extensions' method is related to adding extensions to the Monetary SUT version of Exiobase, which are not environmentally-extended when downloaded from Zenodo. \n",
    "However, they have the same granularity as their corresponding activity-by-activity IOT in terms of regions and sectors (activities in case of the SUT). \n",
    "\n",
    "By downloading both SUT and IOT tables, it is possible to get the satellite accounts from the latter to the former.\n",
    "\n",
    "### Parse both Exiobase tables\n",
    "First, start by parsing both tables (referred to 2019 in this example): refer to the EXIOBASE parser tutorial for further information"
   ]
  },
  {
   "cell_type": "code",
   "execution_count": 1,
   "metadata": {},
   "outputs": [
    {
     "name": "stderr",
     "output_type": "stream",
     "text": [
      "<>:3: SyntaxWarning: invalid escape sequence '\\M'\n",
      "<>:4: SyntaxWarning: invalid escape sequence '\\I'\n",
      "<>:3: SyntaxWarning: invalid escape sequence '\\M'\n",
      "<>:4: SyntaxWarning: invalid escape sequence '\\I'\n",
      "C:\\Users\\loren\\AppData\\Local\\Temp\\ipykernel_3556\\1850789910.py:3: SyntaxWarning: invalid escape sequence '\\M'\n",
      "  sut_path = 'EXIOBASE_folder\\MRSUT_2019.zip'\n",
      "C:\\Users\\loren\\AppData\\Local\\Temp\\ipykernel_3556\\1850789910.py:4: SyntaxWarning: invalid escape sequence '\\I'\n",
      "  iot_path = 'EXIOBASE_folder\\IOT_2019_ixi.zip'\n",
      "cvxpy module is not installed in your system. This will raise problems in some of the abilities of MARIO\n"
     ]
    }
   ],
   "source": [
    "import mario\n",
    "\n",
    "sut_path = 'EXIOBASE_folder\\MRSUT_2019.zip'\n",
    "iot_path = 'EXIOBASE_folder\\IOT_2019_ixi.zip'\n",
    "\n",
    "sut = mario.parse_exiobase(table='SUT',unit='Monetary',path=sut_path)\n",
    "iot = mario.parse_exiobase(table='IOT',unit='Monetary',path=iot_path)"
   ]
  },
  {
   "cell_type": "markdown",
   "metadata": {},
   "source": [
    "The next step would be to append to create a new E matrix for the SUT starting from the E matrix of the IOT. \n",
    "Consider that the indices would be different since the IOT would have a \"Sector\" level instead of \"Activity\" and \"Commodity\" level as for the SUT. \n",
    "\n",
    "The new E of the SUT will be initialized as an empty dataframe, filled with zeros, having the same indices as the IOT's E and the same columns as the SUT's E."
   ]
  },
  {
   "cell_type": "code",
   "execution_count": 3,
   "metadata": {},
   "outputs": [],
   "source": [
    "import pandas as pd\n",
    "\n",
    "E_iot = iot.E\n",
    "E_sut = sut.E\n",
    "\n",
    "new_E_sut = pd.DataFrame(0, index=E_iot.index, columns=E_sut.columns)"
   ]
  },
  {
   "cell_type": "markdown",
   "metadata": {},
   "source": [
    "It is then necessary to fill the values of the IOT's E into the new SUT's E. Before this, it is safer to change the second level of the columns index level of the IOT's E into 'Activity'"
   ]
  },
  {
   "cell_type": "code",
   "execution_count": 5,
   "metadata": {},
   "outputs": [],
   "source": [
    "new_column_levels = pd.MultiIndex.from_arrays([\n",
    "    E_iot.columns.get_level_values(0),\n",
    "    ['Activity' for i in range(E_iot.shape[1])],\n",
    "    E_iot.columns.get_level_values(2)\n",
    "])\n",
    "\n",
    "E_iot.columns = new_column_levels"
   ]
  },
  {
   "cell_type": "markdown",
   "metadata": {},
   "source": [
    "At this point, it is enough to update the new SUT's E with values of the IOT's E"
   ]
  },
  {
   "cell_type": "code",
   "execution_count": 6,
   "metadata": {},
   "outputs": [],
   "source": [
    "new_E_sut.update(E_iot)"
   ]
  },
  {
   "cell_type": "markdown",
   "metadata": {},
   "source": [
    "Regarding the units, they will be taken from the IOT as well"
   ]
  },
  {
   "cell_type": "code",
   "execution_count": 7,
   "metadata": {},
   "outputs": [],
   "source": [
    "new_units_sut = iot.units['Satellite account']"
   ]
  },
  {
   "cell_type": "markdown",
   "metadata": {},
   "source": [
    "To conclude, just call the 'add_extensions' method as shown for the simplified case"
   ]
  },
  {
   "cell_type": "code",
   "execution_count": 8,
   "metadata": {},
   "outputs": [
    {
     "name": "stderr",
     "output_type": "stream",
     "text": [
      "Using add extensions will rewrite the new results on the baseline and delete other scenarios\n",
      "C:\\Users\\loren\\Documents\\GitHub\\MARIO-Org\\MARIO\\mario\\core\\AttrData.py:410: SyntaxWarning:\n",
      "\n",
      "invalid escape sequence '\\{'\n",
      "\n",
      "C:\\Users\\loren\\Documents\\GitHub\\MARIO-Org\\MARIO\\mario\\core\\AttrData.py:1029: SyntaxWarning:\n",
      "\n",
      "invalid escape sequence '\\s'\n",
      "\n"
     ]
    },
    {
     "ename": "WrongInput",
     "evalue": "units dataframe should has exactly the same index levels of io",
     "output_type": "error",
     "traceback": [
      "\u001b[1;31m---------------------------------------------------------------------------\u001b[0m",
      "\u001b[1;31mWrongInput\u001b[0m                                Traceback (most recent call last)",
      "Cell \u001b[1;32mIn[8], line 1\u001b[0m\n\u001b[1;32m----> 1\u001b[0m \u001b[43msut\u001b[49m\u001b[38;5;241;43m.\u001b[39;49m\u001b[43madd_extensions\u001b[49m\u001b[43m(\u001b[49m\n\u001b[0;32m      2\u001b[0m \u001b[43m    \u001b[49m\u001b[43mio\u001b[49m\u001b[38;5;241;43m=\u001b[39;49m\u001b[43mnew_E_sut\u001b[49m\u001b[43m,\u001b[49m\n\u001b[0;32m      3\u001b[0m \u001b[43m    \u001b[49m\u001b[43munits\u001b[49m\u001b[38;5;241;43m=\u001b[39;49m\u001b[43mnew_units_sut\u001b[49m\u001b[43m,\u001b[49m\n\u001b[0;32m      4\u001b[0m \u001b[43m    \u001b[49m\u001b[43mmatrix\u001b[49m\u001b[38;5;241;43m=\u001b[39;49m\u001b[38;5;124;43m'\u001b[39;49m\u001b[38;5;124;43mE\u001b[39;49m\u001b[38;5;124;43m'\u001b[39;49m\n\u001b[0;32m      5\u001b[0m \u001b[43m)\u001b[49m\n",
      "File \u001b[1;32m~\\Documents\\GitHub\\MARIO-Org\\MARIO\\mario\\core\\AttrData.py:791\u001b[0m, in \u001b[0;36mDatabase.add_extensions\u001b[1;34m(self, io, matrix, units, backup, inplace, calc_all, notes, EY)\u001b[0m\n\u001b[0;32m    789\u001b[0m \u001b[38;5;66;03m# check the consistency of units with items\u001b[39;00m\n\u001b[0;32m    790\u001b[0m \u001b[38;5;28;01mif\u001b[39;00m \u001b[38;5;129;01mnot\u001b[39;00m data\u001b[38;5;241m.\u001b[39mindex\u001b[38;5;241m.\u001b[39mequals(units\u001b[38;5;241m.\u001b[39mindex):\n\u001b[1;32m--> 791\u001b[0m     \u001b[38;5;28;01mraise\u001b[39;00m WrongInput(\n\u001b[0;32m    792\u001b[0m         \u001b[38;5;124m\"\u001b[39m\u001b[38;5;124munits dataframe should has exactly the same index levels of io\u001b[39m\u001b[38;5;124m\"\u001b[39m\n\u001b[0;32m    793\u001b[0m     )\n\u001b[0;32m    795\u001b[0m \u001b[38;5;28;01mif\u001b[39;00m EY \u001b[38;5;129;01mis\u001b[39;00m \u001b[38;5;129;01mnot\u001b[39;00m \u001b[38;5;28;01mNone\u001b[39;00m \u001b[38;5;129;01mand\u001b[39;00m matrix_id \u001b[38;5;241m==\u001b[39m \u001b[38;5;124m\"\u001b[39m\u001b[38;5;124mk\u001b[39m\u001b[38;5;124m\"\u001b[39m:\n\u001b[0;32m    796\u001b[0m     EY \u001b[38;5;241m=\u001b[39m EY\u001b[38;5;241m.\u001b[39msort_index()\n",
      "\u001b[1;31mWrongInput\u001b[0m: units dataframe should has exactly the same index levels of io"
     ]
    }
   ],
   "source": [
    "sut.add_extensions(\n",
    "    io=new_E_sut,\n",
    "    units=new_units_sut,\n",
    "    matrix='E'\n",
    ")"
   ]
  }
 ],
 "metadata": {
  "kernelspec": {
   "display_name": "mario_test",
   "language": "python",
   "name": "python3"
  },
  "language_info": {
   "codemirror_mode": {
    "name": "ipython",
    "version": 3
   },
   "file_extension": ".py",
   "mimetype": "text/x-python",
   "name": "python",
   "nbconvert_exporter": "python",
   "pygments_lexer": "ipython3",
   "version": "3.12.3"
  }
 },
 "nbformat": 4,
 "nbformat_minor": 2
}
