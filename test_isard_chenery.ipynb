{
 "cells": [
  {
   "cell_type": "markdown",
   "metadata": {},
   "source": [
    "This tutorial shows how to switch from an Isard to a Chenery-Moses SUT table.\n",
    "\n",
    "First we need to load the test SUT table of MARIO (which is an Isard)"
   ]
  },
  {
   "cell_type": "code",
   "execution_count": null,
   "metadata": {},
   "outputs": [],
   "source": [
    "import mario\n",
    "\n",
    "# test = mario.parse_exiobase(table='SUT',unit='Monetary',path=r\"C:\\Users\\loren\\Polimi\\Politecnico di Milano\\DENG-SESAM - Documenti\\DATASETS\\Exiobase 3.8.2\\MRSUT\\MRSUT_2019.zip\")\n",
    "test = mario.load_test('SUT')\n",
    "# test = mario.parse_from_excel(path=r\"C:\\Users\\loren\\Downloads\\Telegram Desktop\\test isard-chenery\\test\\Book2.xlsx\",table='SUT',mode='coefficients')"
   ]
  },
  {
   "cell_type": "markdown",
   "metadata": {},
   "source": [
    "We can check it is an Isard or a Chenery-Moses table with the \"is_isard\" and \"is_chenerymoses\" methods. By default, it will test the baseline scenario"
   ]
  },
  {
   "cell_type": "code",
   "execution_count": null,
   "metadata": {},
   "outputs": [],
   "source": [
    "test.is_isard()"
   ]
  },
  {
   "cell_type": "code",
   "execution_count": null,
   "metadata": {},
   "outputs": [],
   "source": [
    "test.is_chenerymoses()"
   ]
  },
  {
   "cell_type": "markdown",
   "metadata": {},
   "source": [
    "We can then apply the \"to_chenery_moses\" method to change the table format."
   ]
  },
  {
   "cell_type": "code",
   "execution_count": null,
   "metadata": {},
   "outputs": [],
   "source": [
    "test.to_chenery_moses()"
   ]
  },
  {
   "cell_type": "markdown",
   "metadata": {},
   "source": [
    "Now we can check the table is not isard anymore"
   ]
  },
  {
   "cell_type": "code",
   "execution_count": null,
   "metadata": {},
   "outputs": [],
   "source": [
    "test.is_isard()"
   ]
  },
  {
   "cell_type": "markdown",
   "metadata": {},
   "source": [
    "_______________________________________________________________________________________________________________________________________"
   ]
  },
  {
   "cell_type": "markdown",
   "metadata": {},
   "source": [
    "Note that the transformation is not possible for single-region tables or IOT tables"
   ]
  },
  {
   "cell_type": "code",
   "execution_count": null,
   "metadata": {},
   "outputs": [],
   "source": [
    "test.to_single_region('Italy')\n",
    "test.is_isard()"
   ]
  },
  {
   "cell_type": "code",
   "execution_count": null,
   "metadata": {},
   "outputs": [],
   "source": [
    "test = mario.load_test(\"IOT\")\n",
    "test.is_isard()"
   ]
  }
 ],
 "metadata": {
  "kernelspec": {
   "display_name": "mario",
   "language": "python",
   "name": "python3"
  },
  "language_info": {
   "codemirror_mode": {
    "name": "ipython",
    "version": 3
   },
   "file_extension": ".py",
   "mimetype": "text/x-python",
   "name": "python",
   "nbconvert_exporter": "python",
   "pygments_lexer": "ipython3",
   "version": "3.8.19"
  }
 },
 "nbformat": 4,
 "nbformat_minor": 2
}
